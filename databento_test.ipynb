{
 "cells": [
  {
   "cell_type": "markdown",
   "metadata": {},
   "source": [
    "# Explaining how to use Databento"
   ]
  },
  {
   "cell_type": "markdown",
   "metadata": {},
   "source": [
    "This is a comprehensive example of how one can use Databento to create a dataset, we will get into the details of each parameters after"
   ]
  },
  {
   "cell_type": "code",
   "execution_count": 5,
   "metadata": {},
   "outputs": [
    {
     "name": "stderr",
     "output_type": "stream",
     "text": [
      "/var/folders/57/_nkrw5g16dsdmygf08scq6b00000gn/T/ipykernel_72860/1904554057.py:7: BentoDeprecationWarning: This request relies on the forward-fill behavior of the `end` parameter that will change soon. See: https://to.dbn.to/api-change-2024-03-27\n",
      "  data = client.timeseries.get_range(\n"
     ]
    }
   ],
   "source": [
    "import databento as db\n",
    "\n",
    "\n",
    "client = db.Historical('db-AWYmTwQ9XYrEjcwMMdAB9gAKc4u8a')\n",
    "\n",
    "# Get 10 levels of ES lead month\n",
    "data = client.timeseries.get_range(\n",
    "    dataset='GLBX.MDP3',\n",
    "    schema='ohlcv-1s',\n",
    "    start=\"2023-12-05T10:30\",\n",
    "    end=\"2023-12-05T19:30\",\n",
    "    symbols=['ES.n.0'],\n",
    "    stype_in='continuous',\n",
    ")\n",
    "df = data.to_df()\n",
    "\n",
    "\n"
   ]
  },
  {
   "cell_type": "code",
   "execution_count": 6,
   "metadata": {},
   "outputs": [
    {
     "data": {
      "text/html": [
       "<div>\n",
       "<style scoped>\n",
       "    .dataframe tbody tr th:only-of-type {\n",
       "        vertical-align: middle;\n",
       "    }\n",
       "\n",
       "    .dataframe tbody tr th {\n",
       "        vertical-align: top;\n",
       "    }\n",
       "\n",
       "    .dataframe thead th {\n",
       "        text-align: right;\n",
       "    }\n",
       "</style>\n",
       "<table border=\"1\" class=\"dataframe\">\n",
       "  <thead>\n",
       "    <tr style=\"text-align: right;\">\n",
       "      <th></th>\n",
       "      <th>rtype</th>\n",
       "      <th>publisher_id</th>\n",
       "      <th>instrument_id</th>\n",
       "      <th>open</th>\n",
       "      <th>high</th>\n",
       "      <th>low</th>\n",
       "      <th>close</th>\n",
       "      <th>volume</th>\n",
       "      <th>symbol</th>\n",
       "    </tr>\n",
       "    <tr>\n",
       "      <th>ts_event</th>\n",
       "      <th></th>\n",
       "      <th></th>\n",
       "      <th></th>\n",
       "      <th></th>\n",
       "      <th></th>\n",
       "      <th></th>\n",
       "      <th></th>\n",
       "      <th></th>\n",
       "      <th></th>\n",
       "    </tr>\n",
       "  </thead>\n",
       "  <tbody>\n",
       "    <tr>\n",
       "      <th>2023-12-05 10:30:00+00:00</th>\n",
       "      <td>32</td>\n",
       "      <td>1</td>\n",
       "      <td>314863</td>\n",
       "      <td>4564.00</td>\n",
       "      <td>4564.00</td>\n",
       "      <td>4564.00</td>\n",
       "      <td>4564.00</td>\n",
       "      <td>22</td>\n",
       "      <td>ES.n.0</td>\n",
       "    </tr>\n",
       "    <tr>\n",
       "      <th>2023-12-05 10:30:02+00:00</th>\n",
       "      <td>32</td>\n",
       "      <td>1</td>\n",
       "      <td>314863</td>\n",
       "      <td>4563.75</td>\n",
       "      <td>4563.75</td>\n",
       "      <td>4563.75</td>\n",
       "      <td>4563.75</td>\n",
       "      <td>19</td>\n",
       "      <td>ES.n.0</td>\n",
       "    </tr>\n",
       "    <tr>\n",
       "      <th>2023-12-05 10:30:04+00:00</th>\n",
       "      <td>32</td>\n",
       "      <td>1</td>\n",
       "      <td>314863</td>\n",
       "      <td>4563.75</td>\n",
       "      <td>4563.75</td>\n",
       "      <td>4563.75</td>\n",
       "      <td>4563.75</td>\n",
       "      <td>13</td>\n",
       "      <td>ES.n.0</td>\n",
       "    </tr>\n",
       "    <tr>\n",
       "      <th>2023-12-05 10:30:06+00:00</th>\n",
       "      <td>32</td>\n",
       "      <td>1</td>\n",
       "      <td>314863</td>\n",
       "      <td>4563.75</td>\n",
       "      <td>4563.75</td>\n",
       "      <td>4563.50</td>\n",
       "      <td>4563.50</td>\n",
       "      <td>29</td>\n",
       "      <td>ES.n.0</td>\n",
       "    </tr>\n",
       "    <tr>\n",
       "      <th>2023-12-05 10:30:10+00:00</th>\n",
       "      <td>32</td>\n",
       "      <td>1</td>\n",
       "      <td>314863</td>\n",
       "      <td>4563.50</td>\n",
       "      <td>4563.50</td>\n",
       "      <td>4563.50</td>\n",
       "      <td>4563.50</td>\n",
       "      <td>16</td>\n",
       "      <td>ES.n.0</td>\n",
       "    </tr>\n",
       "  </tbody>\n",
       "</table>\n",
       "</div>"
      ],
      "text/plain": [
       "                           rtype  publisher_id  instrument_id     open  \\\n",
       "ts_event                                                                 \n",
       "2023-12-05 10:30:00+00:00     32             1         314863  4564.00   \n",
       "2023-12-05 10:30:02+00:00     32             1         314863  4563.75   \n",
       "2023-12-05 10:30:04+00:00     32             1         314863  4563.75   \n",
       "2023-12-05 10:30:06+00:00     32             1         314863  4563.75   \n",
       "2023-12-05 10:30:10+00:00     32             1         314863  4563.50   \n",
       "\n",
       "                              high      low    close  volume  symbol  \n",
       "ts_event                                                              \n",
       "2023-12-05 10:30:00+00:00  4564.00  4564.00  4564.00      22  ES.n.0  \n",
       "2023-12-05 10:30:02+00:00  4563.75  4563.75  4563.75      19  ES.n.0  \n",
       "2023-12-05 10:30:04+00:00  4563.75  4563.75  4563.75      13  ES.n.0  \n",
       "2023-12-05 10:30:06+00:00  4563.75  4563.50  4563.50      29  ES.n.0  \n",
       "2023-12-05 10:30:10+00:00  4563.50  4563.50  4563.50      16  ES.n.0  "
      ]
     },
     "execution_count": 6,
     "metadata": {},
     "output_type": "execute_result"
    }
   ],
   "source": [
    "df.head()"
   ]
  },
  {
   "cell_type": "code",
   "execution_count": 7,
   "metadata": {},
   "outputs": [
    {
     "data": {
      "text/html": [
       "<div>\n",
       "<style scoped>\n",
       "    .dataframe tbody tr th:only-of-type {\n",
       "        vertical-align: middle;\n",
       "    }\n",
       "\n",
       "    .dataframe tbody tr th {\n",
       "        vertical-align: top;\n",
       "    }\n",
       "\n",
       "    .dataframe thead th {\n",
       "        text-align: right;\n",
       "    }\n",
       "</style>\n",
       "<table border=\"1\" class=\"dataframe\">\n",
       "  <thead>\n",
       "    <tr style=\"text-align: right;\">\n",
       "      <th></th>\n",
       "      <th>rtype</th>\n",
       "      <th>publisher_id</th>\n",
       "      <th>instrument_id</th>\n",
       "      <th>open</th>\n",
       "      <th>high</th>\n",
       "      <th>low</th>\n",
       "      <th>close</th>\n",
       "      <th>volume</th>\n",
       "      <th>symbol</th>\n",
       "    </tr>\n",
       "    <tr>\n",
       "      <th>ts_event</th>\n",
       "      <th></th>\n",
       "      <th></th>\n",
       "      <th></th>\n",
       "      <th></th>\n",
       "      <th></th>\n",
       "      <th></th>\n",
       "      <th></th>\n",
       "      <th></th>\n",
       "      <th></th>\n",
       "    </tr>\n",
       "  </thead>\n",
       "  <tbody>\n",
       "    <tr>\n",
       "      <th>2023-12-05 10:30:00+00:00</th>\n",
       "      <td>32</td>\n",
       "      <td>1</td>\n",
       "      <td>314863</td>\n",
       "      <td>4564.00</td>\n",
       "      <td>4564.00</td>\n",
       "      <td>4564.00</td>\n",
       "      <td>4564.00</td>\n",
       "      <td>22</td>\n",
       "      <td>ES.n.0</td>\n",
       "    </tr>\n",
       "    <tr>\n",
       "      <th>2023-12-05 10:30:02+00:00</th>\n",
       "      <td>32</td>\n",
       "      <td>1</td>\n",
       "      <td>314863</td>\n",
       "      <td>4563.75</td>\n",
       "      <td>4563.75</td>\n",
       "      <td>4563.75</td>\n",
       "      <td>4563.75</td>\n",
       "      <td>19</td>\n",
       "      <td>ES.n.0</td>\n",
       "    </tr>\n",
       "    <tr>\n",
       "      <th>2023-12-05 10:30:04+00:00</th>\n",
       "      <td>32</td>\n",
       "      <td>1</td>\n",
       "      <td>314863</td>\n",
       "      <td>4563.75</td>\n",
       "      <td>4563.75</td>\n",
       "      <td>4563.75</td>\n",
       "      <td>4563.75</td>\n",
       "      <td>13</td>\n",
       "      <td>ES.n.0</td>\n",
       "    </tr>\n",
       "    <tr>\n",
       "      <th>2023-12-05 10:30:06+00:00</th>\n",
       "      <td>32</td>\n",
       "      <td>1</td>\n",
       "      <td>314863</td>\n",
       "      <td>4563.75</td>\n",
       "      <td>4563.75</td>\n",
       "      <td>4563.50</td>\n",
       "      <td>4563.50</td>\n",
       "      <td>29</td>\n",
       "      <td>ES.n.0</td>\n",
       "    </tr>\n",
       "    <tr>\n",
       "      <th>2023-12-05 10:30:10+00:00</th>\n",
       "      <td>32</td>\n",
       "      <td>1</td>\n",
       "      <td>314863</td>\n",
       "      <td>4563.50</td>\n",
       "      <td>4563.50</td>\n",
       "      <td>4563.50</td>\n",
       "      <td>4563.50</td>\n",
       "      <td>16</td>\n",
       "      <td>ES.n.0</td>\n",
       "    </tr>\n",
       "  </tbody>\n",
       "</table>\n",
       "</div>"
      ],
      "text/plain": [
       "                           rtype  publisher_id  instrument_id     open  \\\n",
       "ts_event                                                                 \n",
       "2023-12-05 10:30:00+00:00     32             1         314863  4564.00   \n",
       "2023-12-05 10:30:02+00:00     32             1         314863  4563.75   \n",
       "2023-12-05 10:30:04+00:00     32             1         314863  4563.75   \n",
       "2023-12-05 10:30:06+00:00     32             1         314863  4563.75   \n",
       "2023-12-05 10:30:10+00:00     32             1         314863  4563.50   \n",
       "\n",
       "                              high      low    close  volume  symbol  \n",
       "ts_event                                                              \n",
       "2023-12-05 10:30:00+00:00  4564.00  4564.00  4564.00      22  ES.n.0  \n",
       "2023-12-05 10:30:02+00:00  4563.75  4563.75  4563.75      19  ES.n.0  \n",
       "2023-12-05 10:30:04+00:00  4563.75  4563.75  4563.75      13  ES.n.0  \n",
       "2023-12-05 10:30:06+00:00  4563.75  4563.50  4563.50      29  ES.n.0  \n",
       "2023-12-05 10:30:10+00:00  4563.50  4563.50  4563.50      16  ES.n.0  "
      ]
     },
     "execution_count": 7,
     "metadata": {},
     "output_type": "execute_result"
    }
   ],
   "source": [
    "import pandas as pd\n",
    "df.index = pd.to_datetime(df.index)\n",
    "df.head()"
   ]
  },
  {
   "cell_type": "code",
   "execution_count": 36,
   "metadata": {},
   "outputs": [
    {
     "name": "stdout",
     "output_type": "stream",
     "text": [
      "[4564.   4563.75 4563.75 ... 4573.25 4573.25 4573.25]\n"
     ]
    }
   ],
   "source": [
    "import pandas as pd\n",
    "df1 = pd.read_csv('ES.N.0.csv').values.flatten()\n",
    "#modify it to make it just one dimension\n",
    "\n",
    "print(df1)"
   ]
  },
  {
   "cell_type": "code",
   "execution_count": 28,
   "metadata": {},
   "outputs": [],
   "source": [
    "#save df.close to csv\n",
    "#df.to_csv('ES.n.0.csv', columns = ['close'], index = False)"
   ]
  },
  {
   "cell_type": "code",
   "execution_count": 29,
   "metadata": {},
   "outputs": [
    {
     "data": {
      "text/html": [
       "<div>\n",
       "<style scoped>\n",
       "    .dataframe tbody tr th:only-of-type {\n",
       "        vertical-align: middle;\n",
       "    }\n",
       "\n",
       "    .dataframe tbody tr th {\n",
       "        vertical-align: top;\n",
       "    }\n",
       "\n",
       "    .dataframe thead th {\n",
       "        text-align: right;\n",
       "    }\n",
       "</style>\n",
       "<table border=\"1\" class=\"dataframe\">\n",
       "  <thead>\n",
       "    <tr style=\"text-align: right;\">\n",
       "      <th></th>\n",
       "      <th>rtype</th>\n",
       "      <th>publisher_id</th>\n",
       "      <th>instrument_id</th>\n",
       "      <th>open</th>\n",
       "      <th>high</th>\n",
       "      <th>low</th>\n",
       "      <th>close</th>\n",
       "      <th>volume</th>\n",
       "    </tr>\n",
       "  </thead>\n",
       "  <tbody>\n",
       "    <tr>\n",
       "      <th>count</th>\n",
       "      <td>23345.0</td>\n",
       "      <td>23345.0</td>\n",
       "      <td>23345.0</td>\n",
       "      <td>23345.000000</td>\n",
       "      <td>23345.000000</td>\n",
       "      <td>23345.000000</td>\n",
       "      <td>23345.000000</td>\n",
       "      <td>23345.000000</td>\n",
       "    </tr>\n",
       "    <tr>\n",
       "      <th>mean</th>\n",
       "      <td>32.0</td>\n",
       "      <td>1.0</td>\n",
       "      <td>314863.0</td>\n",
       "      <td>4568.425991</td>\n",
       "      <td>4568.500300</td>\n",
       "      <td>4568.348897</td>\n",
       "      <td>4568.426141</td>\n",
       "      <td>55.659499</td>\n",
       "    </tr>\n",
       "    <tr>\n",
       "      <th>std</th>\n",
       "      <td>0.0</td>\n",
       "      <td>0.0</td>\n",
       "      <td>0.0</td>\n",
       "      <td>6.942058</td>\n",
       "      <td>6.958712</td>\n",
       "      <td>6.918368</td>\n",
       "      <td>6.938052</td>\n",
       "      <td>90.519000</td>\n",
       "    </tr>\n",
       "    <tr>\n",
       "      <th>min</th>\n",
       "      <td>32.0</td>\n",
       "      <td>1.0</td>\n",
       "      <td>314863.0</td>\n",
       "      <td>4555.500000</td>\n",
       "      <td>4555.500000</td>\n",
       "      <td>4555.500000</td>\n",
       "      <td>4555.500000</td>\n",
       "      <td>1.000000</td>\n",
       "    </tr>\n",
       "    <tr>\n",
       "      <th>25%</th>\n",
       "      <td>32.0</td>\n",
       "      <td>1.0</td>\n",
       "      <td>314863.0</td>\n",
       "      <td>4562.250000</td>\n",
       "      <td>4562.250000</td>\n",
       "      <td>4562.000000</td>\n",
       "      <td>4562.250000</td>\n",
       "      <td>5.000000</td>\n",
       "    </tr>\n",
       "    <tr>\n",
       "      <th>50%</th>\n",
       "      <td>32.0</td>\n",
       "      <td>1.0</td>\n",
       "      <td>314863.0</td>\n",
       "      <td>4570.000000</td>\n",
       "      <td>4570.250000</td>\n",
       "      <td>4570.000000</td>\n",
       "      <td>4570.000000</td>\n",
       "      <td>27.000000</td>\n",
       "    </tr>\n",
       "    <tr>\n",
       "      <th>75%</th>\n",
       "      <td>32.0</td>\n",
       "      <td>1.0</td>\n",
       "      <td>314863.0</td>\n",
       "      <td>4573.500000</td>\n",
       "      <td>4573.500000</td>\n",
       "      <td>4573.250000</td>\n",
       "      <td>4573.500000</td>\n",
       "      <td>74.000000</td>\n",
       "    </tr>\n",
       "    <tr>\n",
       "      <th>max</th>\n",
       "      <td>32.0</td>\n",
       "      <td>1.0</td>\n",
       "      <td>314863.0</td>\n",
       "      <td>4585.500000</td>\n",
       "      <td>4585.500000</td>\n",
       "      <td>4585.250000</td>\n",
       "      <td>4585.500000</td>\n",
       "      <td>3484.000000</td>\n",
       "    </tr>\n",
       "  </tbody>\n",
       "</table>\n",
       "</div>"
      ],
      "text/plain": [
       "         rtype  publisher_id  instrument_id          open          high  \\\n",
       "count  23345.0       23345.0        23345.0  23345.000000  23345.000000   \n",
       "mean      32.0           1.0       314863.0   4568.425991   4568.500300   \n",
       "std        0.0           0.0            0.0      6.942058      6.958712   \n",
       "min       32.0           1.0       314863.0   4555.500000   4555.500000   \n",
       "25%       32.0           1.0       314863.0   4562.250000   4562.250000   \n",
       "50%       32.0           1.0       314863.0   4570.000000   4570.250000   \n",
       "75%       32.0           1.0       314863.0   4573.500000   4573.500000   \n",
       "max       32.0           1.0       314863.0   4585.500000   4585.500000   \n",
       "\n",
       "                low         close        volume  \n",
       "count  23345.000000  23345.000000  23345.000000  \n",
       "mean    4568.348897   4568.426141     55.659499  \n",
       "std        6.918368      6.938052     90.519000  \n",
       "min     4555.500000   4555.500000      1.000000  \n",
       "25%     4562.000000   4562.250000      5.000000  \n",
       "50%     4570.000000   4570.000000     27.000000  \n",
       "75%     4573.250000   4573.500000     74.000000  \n",
       "max     4585.250000   4585.500000   3484.000000  "
      ]
     },
     "execution_count": 29,
     "metadata": {},
     "output_type": "execute_result"
    }
   ],
   "source": [
    "df.describe()"
   ]
  },
  {
   "cell_type": "markdown",
   "metadata": {},
   "source": [
    "- The client is a simple wrapper around the Databento API, it is used to create, update and delete datasets\n",
    "\n",
    "- We call db.Historical because we are not interested in streaming live data, but rather in historical data\n",
    "  \n",
    "- Once the client is initialized, we can call different methods, with parameters to create a dataset."
   ]
  },
  {
   "cell_type": "markdown",
   "metadata": {},
   "source": [
    "## Let's explore the parameters of this client"
   ]
  },
  {
   "cell_type": "markdown",
   "metadata": {},
   "source": [
    "### Schemas"
   ]
  },
  {
   "cell_type": "code",
   "execution_count": 4,
   "metadata": {},
   "outputs": [
    {
     "name": "stdout",
     "output_type": "stream",
     "text": [
      "['mbo', 'mbp-1', 'mbp-10', 'tbbo', 'trades', 'ohlcv-1s', 'ohlcv-1m', 'ohlcv-1h', 'ohlcv-1d', 'definition', 'statistics']\n"
     ]
    }
   ],
   "source": [
    "schemas = client.metadata.list_schemas(dataset=\"GLBX.MDP3\")\n",
    "print(schemas)"
   ]
  },
  {
   "cell_type": "markdown",
   "metadata": {},
   "source": [
    "- Here, we see that if we want to use the data from CME Globex (leading exchange for futures and options), the schemas at our disposals are the one printed.\n",
    "- what is a schema ? https://docs.databento.com/knowledge-base/new-users/market-data-schemas. We will mainly use OHLCV schemas for our research.\n"
   ]
  },
  {
   "cell_type": "markdown",
   "metadata": {},
   "source": [
    "### start and end\n",
    "\n",
    "Quite self-explanatory, the start and end date of the data we want to retrieve. The format is \"YYYY-MM-DDTHH:MM:SSZ\""
   ]
  },
  {
   "cell_type": "markdown",
   "metadata": {},
   "source": [
    "### finding all the available datasets"
   ]
  },
  {
   "cell_type": "code",
   "execution_count": 7,
   "metadata": {},
   "outputs": [
    {
     "name": "stdout",
     "output_type": "stream",
     "text": [
      "['DBEQ.BASIC', 'GLBX.MDP3', 'IFEU.IMPACT', 'NDEX.IMPACT', 'OPRA.PILLAR', 'XNAS.ITCH']\n"
     ]
    }
   ],
   "source": [
    "datasets = client.metadata.list_datasets()\n",
    "print(datasets)"
   ]
  },
  {
   "cell_type": "markdown",
   "metadata": {},
   "source": [
    "### FInding the available range for a dataset"
   ]
  },
  {
   "cell_type": "code",
   "execution_count": 6,
   "metadata": {},
   "outputs": [
    {
     "name": "stdout",
     "output_type": "stream",
     "text": [
      "{'start_date': '2017-05-21', 'end_date': '2024-02-18'}\n"
     ]
    }
   ],
   "source": [
    "available_range = client.metadata.get_dataset_range(dataset=\"GLBX.MDP3\")\n",
    "print(available_range)"
   ]
  }
 ],
 "metadata": {
  "kernelspec": {
   "display_name": "finance2",
   "language": "python",
   "name": "python3"
  },
  "language_info": {
   "codemirror_mode": {
    "name": "ipython",
    "version": 3
   },
   "file_extension": ".py",
   "mimetype": "text/x-python",
   "name": "python",
   "nbconvert_exporter": "python",
   "pygments_lexer": "ipython3",
   "version": "3.10.13"
  }
 },
 "nbformat": 4,
 "nbformat_minor": 2
}

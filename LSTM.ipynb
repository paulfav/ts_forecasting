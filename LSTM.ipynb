{
  "cells": [
    {
      "cell_type": "markdown",
      "id": "yrU0iWdalVGx",
      "metadata": {
        "id": "yrU0iWdalVGx"
      },
      "source": [
        "# Import all the required libraries\n",
        "\n",
        "---\n",
        "\n"
      ]
    },
    {
      "cell_type": "code",
      "execution_count": 2,
      "id": "4189cf86",
      "metadata": {
        "id": "4189cf86",
        "scrolled": false
      },
      "outputs": [],
      "source": [
        "import pandas as pd\n",
        "import matplotlib.pyplot as plt\n",
        "import yfinance as yf\n",
        "import torch\n",
        "from torch.nn import Module, LSTM, Linear\n",
        "from torch.utils.data import DataLoader, TensorDataset\n",
        "import numpy as np\n",
        "from tqdm import tqdm\n",
        "from torch import nn\n",
        "from sklearn.metrics import mean_squared_error\n",
        "from sklearn.preprocessing import MinMaxScaler\n",
        "\n",
        "use_cuda = torch.cuda.is_available()\n"
      ]
    },
    {
      "cell_type": "markdown",
      "id": "dsMIlQ8DnVOJ",
      "metadata": {
        "id": "dsMIlQ8DnVOJ"
      },
      "source": [
        "# ML Model (LSTM)\n",
        "\n",
        "---\n",
        "\n"
      ]
    },
    {
      "cell_type": "code",
      "execution_count": 3,
      "id": "01a7fb77",
      "metadata": {},
      "outputs": [],
      "source": [
        "class LSTMModel(nn.Module):\n",
        "    def __init__(self, input_size, hidden_size, num_layers, dropout_rate=0.2):\n",
        "        super(LSTMModel, self).__init__()\n",
        "        self.hidden_size = hidden_size\n",
        "        self.num_layers = num_layers\n",
        "        self.lstm = nn.LSTM(input_size, hidden_size, num_layers, batch_first=True, dropout=dropout_rate)\n",
        "        self.fc = nn.Linear(hidden_size, 1)\n",
        "\n",
        "    def forward(self, x):\n",
        "        batch_size = x.size(0)\n",
        "        h0 = torch.zeros(self.num_layers, batch_size, self.hidden_size).to(x.device)\n",
        "        c0 = torch.zeros(self.num_layers, batch_size, self.hidden_size).to(x.device)\n",
        "        out, _ = self.lstm(x, (c0, h0))\n",
        "        out = self.fc(out[:, -1, :])\n",
        "        return out\n"
      ]
    },
    {
      "cell_type": "code",
      "execution_count": 11,
      "id": "2840da90",
      "metadata": {},
      "outputs": [],
      "source": [
        "def train_model(x,y, batch_size = 64, hidden_size = 32, num_layers = 2, dropout_rate = 0.2, learning_rate = 0.001,input_size = 1, part_train = 0.7, part_valid = 0.2): \n",
        "    epoch = 150\n",
        "\n",
        "    use_cuda = True\n",
        "\n",
        "    # Data loading\n",
        "    train_X = x[:int(part_train * len(x))]\n",
        "    train_Y = y[:int(part_train * len(y))]\n",
        "    valid_X = x[int(part_train * len(x)): int(part_train * len(x)) + int(part_valid * len(x))]\n",
        "    valid_Y = y[int(part_train * len(y)): int(part_train * len(y)) + int(part_valid * len(y))]\n",
        "\n",
        "    train_X, train_Y = torch.from_numpy(train_X).float().unsqueeze(-1), torch.from_numpy(train_Y).float()\n",
        "    train_loader = DataLoader(TensorDataset(train_X, train_Y), batch_size=batch_size, shuffle=True)    \n",
        "\n",
        "    valid_X, valid_Y = torch.from_numpy(valid_X).float().unsqueeze(-1), torch.from_numpy(valid_Y).float()\n",
        "    valid_loader = DataLoader(TensorDataset(valid_X, valid_Y), batch_size=batch_size)\n",
        "\n",
        "    # Training parameters\n",
        "    device = torch.device(\"cuda:0\" if use_cuda and torch.cuda.is_available() else \"cpu\") \n",
        "    model = LSTMModel(input_size, hidden_size, num_layers, dropout_rate=dropout_rate).to(device)      \n",
        "    \n",
        "    optimizer = torch.optim.Adam(model.parameters(), lr=learning_rate)\n",
        "    criterion = torch.nn.MSELoss()\n",
        "\n",
        "    valid_loss_min = float(\"inf\")\n",
        "    bad_epoch = 0\n",
        "    global_step = 0\n",
        "\n",
        "    train_loss_array_per_epoch = []\n",
        "    valid_loss_array_per_epoch = []\n",
        "\n",
        "    # Training epochs\n",
        "    for epoch in tqdm(range(epoch)):\n",
        "        model.train(True)                  \n",
        "        train_loss_array = []\n",
        "        hidden_train = None\n",
        "\n",
        "        #Train phase\n",
        "        for i, batch in enumerate(train_loader):\n",
        "            batch_x, batch_y = batch[0].to(device), batch[1].to(device)\n",
        "            pred_y = model(batch_x) \n",
        "\n",
        "            optimizer.zero_grad()               \n",
        "            loss = criterion(pred_y, batch_y)  \n",
        "            loss.backward()                     \n",
        "            optimizer.step()     \n",
        "\n",
        "            train_loss_array.append(loss.item())\n",
        "            global_step += 1\n",
        "                \n",
        "        #Eval phase\n",
        "        model.eval()                    \n",
        "        valid_loss_array = []\n",
        "\n",
        "        for i, batch in enumerate(valid_loader):\n",
        "            batch_v_x , batch_v_y= batch[0].to(device), batch[1].to(device)\n",
        "            pred_Y= model(batch_v_x)\n",
        "\n",
        "            loss = criterion(pred_Y, batch_v_y)  \n",
        "\n",
        "            valid_loss_array.append(loss.item())\n",
        "\n",
        "        train_loss_cur = np.mean(train_loss_array)\n",
        "        valid_loss_cur = np.mean(valid_loss_array)\n",
        "        train_loss_array_per_epoch.append(train_loss_cur)\n",
        "        valid_loss_array_per_epoch.append(valid_loss_cur)\n",
        "        \n",
        "\n",
        "        # Save if better\n",
        "        if valid_loss_cur < valid_loss_min:\n",
        "            valid_loss_min = valid_loss_cur\n",
        "            bad_epoch = 0\n",
        "            torch.save(model.state_dict(),\"LSTMModel.pth\")\n",
        "        # else:\n",
        "        #     bad_epoch += 1\n",
        "        #     if bad_epoch > 15:\n",
        "        #         break\n",
        "    plt.plot(train_loss_array_per_epoch[1:], label='Training loss')\n",
        "    # #plt.plot(valid_loss_array_per_epoch[1:], label='Validation loss')\n",
        "    plt.legend()\n",
        "    plt.show()\n"
      ]
    },
    {
      "cell_type": "code",
      "execution_count": 69,
      "id": "299200c3",
      "metadata": {},
      "outputs": [
        {
          "data": {
            "text/html": [
              "<div>\n",
              "<style scoped>\n",
              "    .dataframe tbody tr th:only-of-type {\n",
              "        vertical-align: middle;\n",
              "    }\n",
              "\n",
              "    .dataframe tbody tr th {\n",
              "        vertical-align: top;\n",
              "    }\n",
              "\n",
              "    .dataframe thead th {\n",
              "        text-align: right;\n",
              "    }\n",
              "</style>\n",
              "<table border=\"1\" class=\"dataframe\">\n",
              "  <thead>\n",
              "    <tr style=\"text-align: right;\">\n",
              "      <th></th>\n",
              "      <th>Model</th>\n",
              "      <th>Window</th>\n",
              "      <th>layers</th>\n",
              "      <th>hidden</th>\n",
              "      <th>batch_size</th>\n",
              "      <th>dropout</th>\n",
              "      <th>learning_rate</th>\n",
              "      <th>mse</th>\n",
              "      <th>epochs</th>\n",
              "      <th>input_size</th>\n",
              "      <th>output_size</th>\n",
              "    </tr>\n",
              "  </thead>\n",
              "  <tbody>\n",
              "    <tr>\n",
              "      <th>24</th>\n",
              "      <td>LSTM</td>\n",
              "      <td>15</td>\n",
              "      <td>1</td>\n",
              "      <td>64</td>\n",
              "      <td>16</td>\n",
              "      <td>0.0</td>\n",
              "      <td>0.0050</td>\n",
              "      <td>0.013232</td>\n",
              "      <td>50.0</td>\n",
              "      <td>1.0</td>\n",
              "      <td>NaN</td>\n",
              "    </tr>\n",
              "    <tr>\n",
              "      <th>30</th>\n",
              "      <td>LSTM</td>\n",
              "      <td>15</td>\n",
              "      <td>1</td>\n",
              "      <td>64</td>\n",
              "      <td>16</td>\n",
              "      <td>0.0</td>\n",
              "      <td>0.0010</td>\n",
              "      <td>0.015424</td>\n",
              "      <td>50.0</td>\n",
              "      <td>1.0</td>\n",
              "      <td>NaN</td>\n",
              "    </tr>\n",
              "    <tr>\n",
              "      <th>38</th>\n",
              "      <td>LSTM</td>\n",
              "      <td>15</td>\n",
              "      <td>1</td>\n",
              "      <td>64</td>\n",
              "      <td>16</td>\n",
              "      <td>0.0</td>\n",
              "      <td>0.0050</td>\n",
              "      <td>0.017622</td>\n",
              "      <td>200.0</td>\n",
              "      <td>1.0</td>\n",
              "      <td>NaN</td>\n",
              "    </tr>\n",
              "    <tr>\n",
              "      <th>20</th>\n",
              "      <td>LSTM</td>\n",
              "      <td>15</td>\n",
              "      <td>1</td>\n",
              "      <td>64</td>\n",
              "      <td>16</td>\n",
              "      <td>0.0</td>\n",
              "      <td>0.0050</td>\n",
              "      <td>0.018151</td>\n",
              "      <td>50.0</td>\n",
              "      <td>1.0</td>\n",
              "      <td>NaN</td>\n",
              "    </tr>\n",
              "    <tr>\n",
              "      <th>29</th>\n",
              "      <td>LSTM</td>\n",
              "      <td>15</td>\n",
              "      <td>1</td>\n",
              "      <td>64</td>\n",
              "      <td>16</td>\n",
              "      <td>0.0</td>\n",
              "      <td>0.0005</td>\n",
              "      <td>0.019764</td>\n",
              "      <td>50.0</td>\n",
              "      <td>1.0</td>\n",
              "      <td>NaN</td>\n",
              "    </tr>\n",
              "    <tr>\n",
              "      <th>...</th>\n",
              "      <td>...</td>\n",
              "      <td>...</td>\n",
              "      <td>...</td>\n",
              "      <td>...</td>\n",
              "      <td>...</td>\n",
              "      <td>...</td>\n",
              "      <td>...</td>\n",
              "      <td>...</td>\n",
              "      <td>...</td>\n",
              "      <td>...</td>\n",
              "      <td>...</td>\n",
              "    </tr>\n",
              "    <tr>\n",
              "      <th>63</th>\n",
              "      <td>LSTM</td>\n",
              "      <td>50</td>\n",
              "      <td>3</td>\n",
              "      <td>64</td>\n",
              "      <td>16</td>\n",
              "      <td>0.2</td>\n",
              "      <td>0.0050</td>\n",
              "      <td>1.645080</td>\n",
              "      <td>50.0</td>\n",
              "      <td>8.0</td>\n",
              "      <td>NaN</td>\n",
              "    </tr>\n",
              "    <tr>\n",
              "      <th>48</th>\n",
              "      <td>LSTM</td>\n",
              "      <td>15</td>\n",
              "      <td>4</td>\n",
              "      <td>32</td>\n",
              "      <td>16</td>\n",
              "      <td>0.2</td>\n",
              "      <td>0.0050</td>\n",
              "      <td>1.765182</td>\n",
              "      <td>50.0</td>\n",
              "      <td>8.0</td>\n",
              "      <td>NaN</td>\n",
              "    </tr>\n",
              "    <tr>\n",
              "      <th>49</th>\n",
              "      <td>LSTM</td>\n",
              "      <td>15</td>\n",
              "      <td>3</td>\n",
              "      <td>8</td>\n",
              "      <td>16</td>\n",
              "      <td>0.2</td>\n",
              "      <td>0.0050</td>\n",
              "      <td>1.881225</td>\n",
              "      <td>50.0</td>\n",
              "      <td>8.0</td>\n",
              "      <td>NaN</td>\n",
              "    </tr>\n",
              "    <tr>\n",
              "      <th>64</th>\n",
              "      <td>LSTM</td>\n",
              "      <td>50</td>\n",
              "      <td>3</td>\n",
              "      <td>64</td>\n",
              "      <td>16</td>\n",
              "      <td>0.2</td>\n",
              "      <td>0.0100</td>\n",
              "      <td>1.998019</td>\n",
              "      <td>50.0</td>\n",
              "      <td>8.0</td>\n",
              "      <td>NaN</td>\n",
              "    </tr>\n",
              "    <tr>\n",
              "      <th>65</th>\n",
              "      <td>LSTM</td>\n",
              "      <td>50</td>\n",
              "      <td>3</td>\n",
              "      <td>64</td>\n",
              "      <td>16</td>\n",
              "      <td>0.2</td>\n",
              "      <td>0.0500</td>\n",
              "      <td>6.861587</td>\n",
              "      <td>50.0</td>\n",
              "      <td>8.0</td>\n",
              "      <td>NaN</td>\n",
              "    </tr>\n",
              "  </tbody>\n",
              "</table>\n",
              "<p>88 rows × 11 columns</p>\n",
              "</div>"
            ],
            "text/plain": [
              "   Model  Window  layers  hidden  batch_size  dropout  learning_rate  \\\n",
              "24  LSTM      15       1      64          16      0.0         0.0050   \n",
              "30  LSTM      15       1      64          16      0.0         0.0010   \n",
              "38  LSTM      15       1      64          16      0.0         0.0050   \n",
              "20  LSTM      15       1      64          16      0.0         0.0050   \n",
              "29  LSTM      15       1      64          16      0.0         0.0005   \n",
              "..   ...     ...     ...     ...         ...      ...            ...   \n",
              "63  LSTM      50       3      64          16      0.2         0.0050   \n",
              "48  LSTM      15       4      32          16      0.2         0.0050   \n",
              "49  LSTM      15       3       8          16      0.2         0.0050   \n",
              "64  LSTM      50       3      64          16      0.2         0.0100   \n",
              "65  LSTM      50       3      64          16      0.2         0.0500   \n",
              "\n",
              "         mse  epochs  input_size  output_size  \n",
              "24  0.013232    50.0         1.0          NaN  \n",
              "30  0.015424    50.0         1.0          NaN  \n",
              "38  0.017622   200.0         1.0          NaN  \n",
              "20  0.018151    50.0         1.0          NaN  \n",
              "29  0.019764    50.0         1.0          NaN  \n",
              "..       ...     ...         ...          ...  \n",
              "63  1.645080    50.0         8.0          NaN  \n",
              "48  1.765182    50.0         8.0          NaN  \n",
              "49  1.881225    50.0         8.0          NaN  \n",
              "64  1.998019    50.0         8.0          NaN  \n",
              "65  6.861587    50.0         8.0          NaN  \n",
              "\n",
              "[88 rows x 11 columns]"
            ]
          },
          "execution_count": 69,
          "metadata": {},
          "output_type": "execute_result"
        }
      ],
      "source": [
        "pd.read_csv('results.csv').sort_values('mse')"
      ]
    },
    {
      "cell_type": "markdown",
      "id": "27d30fb5",
      "metadata": {},
      "source": [
        "# Test"
      ]
    },
    {
      "cell_type": "code",
      "execution_count": 5,
      "id": "9bbfe7a5",
      "metadata": {},
      "outputs": [],
      "source": [
        "def test_model(x,y, hidden_size = 32, num_layers = 2, dropout_rate = 0.2, input_size = 1, part_train = 0.7, part_valid = 0.2): \n",
        "\n",
        "\n",
        "    test_X = x[int((part_train + part_valid) * len(x)):]\n",
        "    true_Y = y[int((part_train + part_valid) * len(y)):]\n",
        "\n",
        "    test_X = torch.from_numpy(test_X).float().unsqueeze(-1)\n",
        "    test_set = TensorDataset(test_X)\n",
        "    test_loader = DataLoader(test_set, batch_size=1)\n",
        "\n",
        "    device = torch.device(\"cuda:0\" if use_cuda and torch.cuda.is_available() else \"cpu\")\n",
        "    model = LSTMModel(input_size, hidden_size, num_layers).to(device)\n",
        "    model.load_state_dict(torch.load(\"LSTMModel.pth\"))   \n",
        "\n",
        "    result = torch.Tensor().to(device)\n",
        "\n",
        "    model.eval()\n",
        "\n",
        "    for _data in test_loader:\n",
        "        data_X = _data[0].to(device)\n",
        "        pred_X = model(data_X)\n",
        "        cur_pred = torch.squeeze(pred_X, dim=0)\n",
        "        result = torch.cat((result, cur_pred), dim=0)\n",
        "\n",
        "    pred_Y = result.detach().cpu().numpy()\n",
        "    \n",
        "    return pred_Y, true_Y"
      ]
    },
    {
      "cell_type": "markdown",
      "id": "d8a287ba",
      "metadata": {},
      "source": [
        "# Processing"
      ]
    },
    {
      "cell_type": "code",
      "execution_count": 3,
      "id": "4b754b45",
      "metadata": {},
      "outputs": [
        {
          "name": "stdout",
          "output_type": "stream",
          "text": [
            "(23047, 1)\n",
            "(23047, 15)\n"
          ]
        }
      ],
      "source": [
        "from sklearn.preprocessing import MinMaxScaler\n",
        "# Build the dataset for one day prediction\n",
        "\n",
        "stock_name = 'AAPL'\n",
        "freq = \"1H\"\n",
        "timeWindowToUse = 15\n",
        "\n",
        "if freq == \"1D\":\n",
        "\n",
        "    data = pd.read_csv('./data_stocks/{}.csv'.format(stock_name))\n",
        "\n",
        "    data.ts_event = pd.to_datetime(data.ts_event)\n",
        "    data = data.set_index('ts_event')\n",
        "    df_series = data['close']\n",
        "    part_train = 0.8\n",
        "    part_valid = 0.2\n",
        "\n",
        "\n",
        "elif freq == \"1H\":\n",
        "    data_train = pd.read_csv('train_normalised.csv')\n",
        "    data_train.date = pd.to_datetime(data_train.date)\n",
        "    data_test = pd.read_csv('test_normalised.csv')\n",
        "    data_test.date = pd.to_datetime(data_test.date)\n",
        "\n",
        "    part_train =  len(data_train) / (len(data_train) + len(data_test))\n",
        "    \n",
        "    part_valid = 0.2 * part_train\n",
        "    part_train =  0.8 * part_train\n",
        "\n",
        "    df_series = pd.concat([data_train[\"close_\" + stock_name], data_test[\"close_\" + stock_name]])\n",
        "\n",
        "elif freq == \"1M\":\n",
        "    None\n",
        "\n",
        "\n",
        "df = df_series.to_frame(\"y\").astype(float)\n",
        "for i in range(timeWindowToUse, 0, -1):\n",
        "    df[\"x_{}\".format(i)] = df[\"y\"].shift(i)\n",
        "df.dropna(inplace=True)\n",
        "df\n",
        "\n",
        "y = df[\"y\"].to_numpy().reshape(-1,1)\n",
        "print(np.shape(y))\n",
        "x = df.drop(columns=[\"y\"]).to_numpy()\n",
        "print(np.shape(x))\n",
        "\n"
      ]
    },
    {
      "cell_type": "code",
      "execution_count": 58,
      "id": "f8ebb15b",
      "metadata": {},
      "outputs": [
        {
          "data": {
            "text/html": [
              "<div>\n",
              "<style scoped>\n",
              "    .dataframe tbody tr th:only-of-type {\n",
              "        vertical-align: middle;\n",
              "    }\n",
              "\n",
              "    .dataframe tbody tr th {\n",
              "        vertical-align: top;\n",
              "    }\n",
              "\n",
              "    .dataframe thead th {\n",
              "        text-align: right;\n",
              "    }\n",
              "</style>\n",
              "<table border=\"1\" class=\"dataframe\">\n",
              "  <thead>\n",
              "    <tr style=\"text-align: right;\">\n",
              "      <th></th>\n",
              "      <th>Model</th>\n",
              "      <th>Window</th>\n",
              "      <th>layers</th>\n",
              "      <th>hidden</th>\n",
              "      <th>batch_size</th>\n",
              "      <th>dropout</th>\n",
              "      <th>learning_rate</th>\n",
              "      <th>mse</th>\n",
              "      <th>epochs</th>\n",
              "      <th>input_size</th>\n",
              "    </tr>\n",
              "  </thead>\n",
              "  <tbody>\n",
              "    <tr>\n",
              "      <th>67</th>\n",
              "      <td>LSTM</td>\n",
              "      <td>50</td>\n",
              "      <td>3</td>\n",
              "      <td>64</td>\n",
              "      <td>16</td>\n",
              "      <td>0.2</td>\n",
              "      <td>0.0001</td>\n",
              "      <td>0.470739</td>\n",
              "      <td>50.0</td>\n",
              "      <td>8.0</td>\n",
              "    </tr>\n",
              "    <tr>\n",
              "      <th>60</th>\n",
              "      <td>LSTM</td>\n",
              "      <td>50</td>\n",
              "      <td>3</td>\n",
              "      <td>64</td>\n",
              "      <td>16</td>\n",
              "      <td>0.2</td>\n",
              "      <td>0.0001</td>\n",
              "      <td>0.482368</td>\n",
              "      <td>50.0</td>\n",
              "      <td>8.0</td>\n",
              "    </tr>\n",
              "    <tr>\n",
              "      <th>61</th>\n",
              "      <td>LSTM</td>\n",
              "      <td>50</td>\n",
              "      <td>3</td>\n",
              "      <td>64</td>\n",
              "      <td>16</td>\n",
              "      <td>0.2</td>\n",
              "      <td>0.0005</td>\n",
              "      <td>0.552889</td>\n",
              "      <td>50.0</td>\n",
              "      <td>8.0</td>\n",
              "    </tr>\n",
              "    <tr>\n",
              "      <th>0</th>\n",
              "      <td>LSTM</td>\n",
              "      <td>50</td>\n",
              "      <td>3</td>\n",
              "      <td>64</td>\n",
              "      <td>16</td>\n",
              "      <td>0.2</td>\n",
              "      <td>0.0010</td>\n",
              "      <td>0.688171</td>\n",
              "      <td>100.0</td>\n",
              "      <td>8.0</td>\n",
              "    </tr>\n",
              "    <tr>\n",
              "      <th>62</th>\n",
              "      <td>LSTM</td>\n",
              "      <td>50</td>\n",
              "      <td>3</td>\n",
              "      <td>64</td>\n",
              "      <td>16</td>\n",
              "      <td>0.2</td>\n",
              "      <td>0.0010</td>\n",
              "      <td>0.735028</td>\n",
              "      <td>50.0</td>\n",
              "      <td>8.0</td>\n",
              "    </tr>\n",
              "    <tr>\n",
              "      <th>...</th>\n",
              "      <td>...</td>\n",
              "      <td>...</td>\n",
              "      <td>...</td>\n",
              "      <td>...</td>\n",
              "      <td>...</td>\n",
              "      <td>...</td>\n",
              "      <td>...</td>\n",
              "      <td>...</td>\n",
              "      <td>...</td>\n",
              "      <td>...</td>\n",
              "    </tr>\n",
              "    <tr>\n",
              "      <th>11</th>\n",
              "      <td>LSTM</td>\n",
              "      <td>15</td>\n",
              "      <td>3</td>\n",
              "      <td>32</td>\n",
              "      <td>16</td>\n",
              "      <td>0.2</td>\n",
              "      <td>0.0050</td>\n",
              "      <td>0.838357</td>\n",
              "      <td>50.0</td>\n",
              "      <td>1.0</td>\n",
              "    </tr>\n",
              "    <tr>\n",
              "      <th>3</th>\n",
              "      <td>LSTM</td>\n",
              "      <td>15</td>\n",
              "      <td>3</td>\n",
              "      <td>32</td>\n",
              "      <td>16</td>\n",
              "      <td>0.2</td>\n",
              "      <td>0.0050</td>\n",
              "      <td>0.838983</td>\n",
              "      <td>5.0</td>\n",
              "      <td>1.0</td>\n",
              "    </tr>\n",
              "    <tr>\n",
              "      <th>2</th>\n",
              "      <td>LSTM</td>\n",
              "      <td>15</td>\n",
              "      <td>2</td>\n",
              "      <td>32</td>\n",
              "      <td>16</td>\n",
              "      <td>0.2</td>\n",
              "      <td>0.0050</td>\n",
              "      <td>0.840096</td>\n",
              "      <td>5.0</td>\n",
              "      <td>1.0</td>\n",
              "    </tr>\n",
              "    <tr>\n",
              "      <th>8</th>\n",
              "      <td>LSTM</td>\n",
              "      <td>15</td>\n",
              "      <td>3</td>\n",
              "      <td>32</td>\n",
              "      <td>16</td>\n",
              "      <td>0.2</td>\n",
              "      <td>0.0050</td>\n",
              "      <td>1.121384</td>\n",
              "      <td>50.0</td>\n",
              "      <td>1.0</td>\n",
              "    </tr>\n",
              "    <tr>\n",
              "      <th>4</th>\n",
              "      <td>LSTM</td>\n",
              "      <td>15</td>\n",
              "      <td>4</td>\n",
              "      <td>32</td>\n",
              "      <td>16</td>\n",
              "      <td>0.2</td>\n",
              "      <td>0.0050</td>\n",
              "      <td>1.201981</td>\n",
              "      <td>5.0</td>\n",
              "      <td>1.0</td>\n",
              "    </tr>\n",
              "  </tbody>\n",
              "</table>\n",
              "<p>68 rows × 10 columns</p>\n",
              "</div>"
            ],
            "text/plain": [
              "   Model  Window  layers  hidden  batch_size  dropout  learning_rate  \\\n",
              "67  LSTM      50       3      64          16      0.2         0.0001   \n",
              "60  LSTM      50       3      64          16      0.2         0.0001   \n",
              "61  LSTM      50       3      64          16      0.2         0.0005   \n",
              "0   LSTM      50       3      64          16      0.2         0.0010   \n",
              "62  LSTM      50       3      64          16      0.2         0.0010   \n",
              "..   ...     ...     ...     ...         ...      ...            ...   \n",
              "11  LSTM      15       3      32          16      0.2         0.0050   \n",
              "3   LSTM      15       3      32          16      0.2         0.0050   \n",
              "2   LSTM      15       2      32          16      0.2         0.0050   \n",
              "8   LSTM      15       3      32          16      0.2         0.0050   \n",
              "4   LSTM      15       4      32          16      0.2         0.0050   \n",
              "\n",
              "         mse  epochs  input_size  \n",
              "67  0.470739    50.0         8.0  \n",
              "60  0.482368    50.0         8.0  \n",
              "61  0.552889    50.0         8.0  \n",
              "0   0.688171   100.0         8.0  \n",
              "62  0.735028    50.0         8.0  \n",
              "..       ...     ...         ...  \n",
              "11  0.838357    50.0         1.0  \n",
              "3   0.838983     5.0         1.0  \n",
              "2   0.840096     5.0         1.0  \n",
              "8   1.121384    50.0         1.0  \n",
              "4   1.201981     5.0         1.0  \n",
              "\n",
              "[68 rows x 10 columns]"
            ]
          },
          "execution_count": 58,
          "metadata": {},
          "output_type": "execute_result"
        }
      ],
      "source": [
        "pd.read_csv('results.csv').sort_values(by=['input_size', 'mse'], ascending=[False, True])"
      ]
    },
    {
      "cell_type": "code",
      "execution_count": 39,
      "id": "78fdd71a",
      "metadata": {},
      "outputs": [
        {
          "name": "stdout",
          "output_type": "stream",
          "text": [
            "Index(['close_AAPL', 'close_AMZN', 'close_MSFT', 'close_META', 'close_GOOGL',\n",
            "       'close_NVDA', 'close_SPY', 'close_GM'],\n",
            "      dtype='object')\n"
          ]
        },
        {
          "data": {
            "text/plain": [
              "array([[[-2.89970416, -0.36111035, -0.67415835, ..., -0.44697421,\n",
              "         -1.16466404, -1.37312875],\n",
              "        [        nan,         nan,         nan, ...,         nan,\n",
              "                 nan,         nan],\n",
              "        [        nan,         nan,         nan, ...,         nan,\n",
              "                 nan,         nan],\n",
              "        ...,\n",
              "        [        nan,         nan,         nan, ...,         nan,\n",
              "                 nan,         nan],\n",
              "        [        nan,         nan,         nan, ...,         nan,\n",
              "                 nan,         nan],\n",
              "        [        nan,         nan,         nan, ...,         nan,\n",
              "                 nan,         nan]],\n",
              "\n",
              "       [[-2.86656585, -0.3615078 , -0.68746649, ..., -0.46016682,\n",
              "         -1.17224645, -1.37133745],\n",
              "        [-2.89970416, -0.36111035, -0.67415835, ..., -0.44697421,\n",
              "         -1.16466404, -1.37312875],\n",
              "        [        nan,         nan,         nan, ...,         nan,\n",
              "                 nan,         nan],\n",
              "        ...,\n",
              "        [        nan,         nan,         nan, ...,         nan,\n",
              "                 nan,         nan],\n",
              "        [        nan,         nan,         nan, ...,         nan,\n",
              "                 nan,         nan],\n",
              "        [        nan,         nan,         nan, ...,         nan,\n",
              "                 nan,         nan]],\n",
              "\n",
              "       [[-2.93915452, -0.36200219, -0.71545949, ..., -0.47054303,\n",
              "         -1.2226153 , -1.4008939 ],\n",
              "        [-2.86656585, -0.3615078 , -0.68746649, ..., -0.46016682,\n",
              "         -1.17224645, -1.37133745],\n",
              "        [-2.89970416, -0.36111035, -0.67415835, ..., -0.44697421,\n",
              "         -1.16466404, -1.37312875],\n",
              "        ...,\n",
              "        [        nan,         nan,         nan, ...,         nan,\n",
              "                 nan,         nan],\n",
              "        [        nan,         nan,         nan, ...,         nan,\n",
              "                 nan,         nan],\n",
              "        [        nan,         nan,         nan, ...,         nan,\n",
              "                 nan,         nan]],\n",
              "\n",
              "       ...,\n",
              "\n",
              "       [[ 3.42497824, -0.26738998,  7.90684213, ..., 10.80469232,\n",
              "          6.41611977,  0.72806587],\n",
              "        [ 3.42497824, -0.26771957,  7.8398425 , ..., 10.79387142,\n",
              "          6.39662215,  0.77105706],\n",
              "        [ 3.42340022, -0.26801039,  7.82102753, ..., 10.74584438,\n",
              "          6.39012295,  0.76747446],\n",
              "        ...,\n",
              "        [ 3.65694638, -0.26664355,  7.86141087, ..., 10.83404218,\n",
              "          6.51956549,  0.74777017],\n",
              "        [ 3.67588256, -0.2668859 ,  7.85911636, ..., 10.84323253,\n",
              "          6.56235194,  0.77463966],\n",
              "        [ 3.67588256, -0.26650784,  7.90454762, ..., 10.92742807,\n",
              "          6.59322318,  0.79255266]],\n",
              "\n",
              "       [[ 3.40446405, -0.26748692,  7.90821883, ..., 10.78319874,\n",
              "          6.41070377,  0.72985717],\n",
              "        [ 3.42497824, -0.26738998,  7.90684213, ..., 10.80469232,\n",
              "          6.41611977,  0.72806587],\n",
              "        [ 3.42497824, -0.26771957,  7.8398425 , ..., 10.79387142,\n",
              "          6.39662215,  0.77105706],\n",
              "        ...,\n",
              "        [ 3.44470342, -0.26756447,  7.89468124, ..., 11.00569435,\n",
              "          6.51739909,  0.76747446],\n",
              "        [ 3.65694638, -0.26664355,  7.86141087, ..., 10.83404218,\n",
              "          6.51956549,  0.74777017],\n",
              "        [ 3.67588256, -0.2668859 ,  7.85911636, ..., 10.84323253,\n",
              "          6.56235194,  0.77463966]],\n",
              "\n",
              "       [[ 3.39815199, -0.26738998,  7.90225311, ..., 10.78023411,\n",
              "          6.41557817,  0.72269197],\n",
              "        [ 3.40446405, -0.26748692,  7.90821883, ..., 10.78319874,\n",
              "          6.41070377,  0.72985717],\n",
              "        [ 3.42497824, -0.26738998,  7.90684213, ..., 10.80469232,\n",
              "          6.41611977,  0.72806587],\n",
              "        ...,\n",
              "        [ 3.40446405, -0.26773896,  7.88527375, ..., 10.86442965,\n",
              "          6.42207738,  0.74239627],\n",
              "        [ 3.44470342, -0.26756447,  7.89468124, ..., 11.00569435,\n",
              "          6.51739909,  0.76747446],\n",
              "        [ 3.65694638, -0.26664355,  7.86141087, ..., 10.83404218,\n",
              "          6.51956549,  0.74777017]]])"
            ]
          },
          "execution_count": 39,
          "metadata": {},
          "output_type": "execute_result"
        }
      ],
      "source": [
        "df = pd.read_csv('test_normalised.csv')\n",
        "df = df[df.columns[4::6]]\n",
        "print(df.columns)\n",
        "tab = np.array([df.shift(i).to_numpy() for i in range(10)])\n",
        "\n",
        "tab = np.concatenate(tab, axis=1).reshape(-1, 10, 8)\n",
        "tab"
      ]
    },
    {
      "cell_type": "code",
      "execution_count": 66,
      "id": "fdfc2ed0",
      "metadata": {},
      "outputs": [
        {
          "data": {
            "text/html": [
              "<div>\n",
              "<style scoped>\n",
              "    .dataframe tbody tr th:only-of-type {\n",
              "        vertical-align: middle;\n",
              "    }\n",
              "\n",
              "    .dataframe tbody tr th {\n",
              "        vertical-align: top;\n",
              "    }\n",
              "\n",
              "    .dataframe thead th {\n",
              "        text-align: right;\n",
              "    }\n",
              "</style>\n",
              "<table border=\"1\" class=\"dataframe\">\n",
              "  <thead>\n",
              "    <tr style=\"text-align: right;\">\n",
              "      <th></th>\n",
              "      <th>Model</th>\n",
              "      <th>Window</th>\n",
              "      <th>layers</th>\n",
              "      <th>hidden</th>\n",
              "      <th>batch_size</th>\n",
              "      <th>dropout</th>\n",
              "      <th>learning_rate</th>\n",
              "      <th>mse</th>\n",
              "      <th>epochs</th>\n",
              "      <th>input_size</th>\n",
              "    </tr>\n",
              "  </thead>\n",
              "  <tbody>\n",
              "    <tr>\n",
              "      <th>71</th>\n",
              "      <td>LSTM</td>\n",
              "      <td>50</td>\n",
              "      <td>3</td>\n",
              "      <td>64</td>\n",
              "      <td>8</td>\n",
              "      <td>0.2</td>\n",
              "      <td>0.0001</td>\n",
              "      <td>0.448719</td>\n",
              "      <td>50.0</td>\n",
              "      <td>8.0</td>\n",
              "    </tr>\n",
              "    <tr>\n",
              "      <th>67</th>\n",
              "      <td>LSTM</td>\n",
              "      <td>50</td>\n",
              "      <td>3</td>\n",
              "      <td>64</td>\n",
              "      <td>16</td>\n",
              "      <td>0.2</td>\n",
              "      <td>0.0001</td>\n",
              "      <td>0.470739</td>\n",
              "      <td>50.0</td>\n",
              "      <td>8.0</td>\n",
              "    </tr>\n",
              "    <tr>\n",
              "      <th>60</th>\n",
              "      <td>LSTM</td>\n",
              "      <td>50</td>\n",
              "      <td>3</td>\n",
              "      <td>64</td>\n",
              "      <td>16</td>\n",
              "      <td>0.2</td>\n",
              "      <td>0.0001</td>\n",
              "      <td>0.482368</td>\n",
              "      <td>50.0</td>\n",
              "      <td>8.0</td>\n",
              "    </tr>\n",
              "    <tr>\n",
              "      <th>68</th>\n",
              "      <td>LSTM</td>\n",
              "      <td>50</td>\n",
              "      <td>3</td>\n",
              "      <td>64</td>\n",
              "      <td>16</td>\n",
              "      <td>0.2</td>\n",
              "      <td>0.0001</td>\n",
              "      <td>0.498594</td>\n",
              "      <td>100.0</td>\n",
              "      <td>8.0</td>\n",
              "    </tr>\n",
              "    <tr>\n",
              "      <th>69</th>\n",
              "      <td>LSTM</td>\n",
              "      <td>50</td>\n",
              "      <td>3</td>\n",
              "      <td>64</td>\n",
              "      <td>16</td>\n",
              "      <td>0.2</td>\n",
              "      <td>0.0001</td>\n",
              "      <td>0.546594</td>\n",
              "      <td>150.0</td>\n",
              "      <td>8.0</td>\n",
              "    </tr>\n",
              "    <tr>\n",
              "      <th>61</th>\n",
              "      <td>LSTM</td>\n",
              "      <td>50</td>\n",
              "      <td>3</td>\n",
              "      <td>64</td>\n",
              "      <td>16</td>\n",
              "      <td>0.2</td>\n",
              "      <td>0.0005</td>\n",
              "      <td>0.552889</td>\n",
              "      <td>50.0</td>\n",
              "      <td>8.0</td>\n",
              "    </tr>\n",
              "    <tr>\n",
              "      <th>72</th>\n",
              "      <td>LSTM</td>\n",
              "      <td>50</td>\n",
              "      <td>3</td>\n",
              "      <td>64</td>\n",
              "      <td>16</td>\n",
              "      <td>0.2</td>\n",
              "      <td>0.0001</td>\n",
              "      <td>0.581862</td>\n",
              "      <td>50.0</td>\n",
              "      <td>8.0</td>\n",
              "    </tr>\n",
              "    <tr>\n",
              "      <th>70</th>\n",
              "      <td>LSTM</td>\n",
              "      <td>50</td>\n",
              "      <td>3</td>\n",
              "      <td>64</td>\n",
              "      <td>16</td>\n",
              "      <td>0.2</td>\n",
              "      <td>0.0001</td>\n",
              "      <td>0.608196</td>\n",
              "      <td>200.0</td>\n",
              "      <td>8.0</td>\n",
              "    </tr>\n",
              "    <tr>\n",
              "      <th>0</th>\n",
              "      <td>LSTM</td>\n",
              "      <td>50</td>\n",
              "      <td>3</td>\n",
              "      <td>64</td>\n",
              "      <td>16</td>\n",
              "      <td>0.2</td>\n",
              "      <td>0.0010</td>\n",
              "      <td>0.688171</td>\n",
              "      <td>100.0</td>\n",
              "      <td>8.0</td>\n",
              "    </tr>\n",
              "    <tr>\n",
              "      <th>62</th>\n",
              "      <td>LSTM</td>\n",
              "      <td>50</td>\n",
              "      <td>3</td>\n",
              "      <td>64</td>\n",
              "      <td>16</td>\n",
              "      <td>0.2</td>\n",
              "      <td>0.0010</td>\n",
              "      <td>0.735028</td>\n",
              "      <td>50.0</td>\n",
              "      <td>8.0</td>\n",
              "    </tr>\n",
              "    <tr>\n",
              "      <th>51</th>\n",
              "      <td>LSTM</td>\n",
              "      <td>15</td>\n",
              "      <td>3</td>\n",
              "      <td>32</td>\n",
              "      <td>16</td>\n",
              "      <td>0.2</td>\n",
              "      <td>0.0050</td>\n",
              "      <td>0.767279</td>\n",
              "      <td>50.0</td>\n",
              "      <td>8.0</td>\n",
              "    </tr>\n",
              "    <tr>\n",
              "      <th>47</th>\n",
              "      <td>LSTM</td>\n",
              "      <td>15</td>\n",
              "      <td>3</td>\n",
              "      <td>32</td>\n",
              "      <td>16</td>\n",
              "      <td>0.2</td>\n",
              "      <td>0.0050</td>\n",
              "      <td>0.808355</td>\n",
              "      <td>50.0</td>\n",
              "      <td>8.0</td>\n",
              "    </tr>\n",
              "    <tr>\n",
              "      <th>52</th>\n",
              "      <td>LSTM</td>\n",
              "      <td>15</td>\n",
              "      <td>3</td>\n",
              "      <td>64</td>\n",
              "      <td>16</td>\n",
              "      <td>0.2</td>\n",
              "      <td>0.0050</td>\n",
              "      <td>0.834365</td>\n",
              "      <td>50.0</td>\n",
              "      <td>8.0</td>\n",
              "    </tr>\n",
              "    <tr>\n",
              "      <th>46</th>\n",
              "      <td>LSTM</td>\n",
              "      <td>15</td>\n",
              "      <td>2</td>\n",
              "      <td>32</td>\n",
              "      <td>16</td>\n",
              "      <td>0.2</td>\n",
              "      <td>0.0050</td>\n",
              "      <td>0.874831</td>\n",
              "      <td>50.0</td>\n",
              "      <td>8.0</td>\n",
              "    </tr>\n",
              "    <tr>\n",
              "      <th>66</th>\n",
              "      <td>LSTM</td>\n",
              "      <td>50</td>\n",
              "      <td>3</td>\n",
              "      <td>64</td>\n",
              "      <td>16</td>\n",
              "      <td>0.2</td>\n",
              "      <td>0.0001</td>\n",
              "      <td>0.887232</td>\n",
              "      <td>10.0</td>\n",
              "      <td>8.0</td>\n",
              "    </tr>\n",
              "    <tr>\n",
              "      <th>54</th>\n",
              "      <td>LSTM</td>\n",
              "      <td>5</td>\n",
              "      <td>3</td>\n",
              "      <td>64</td>\n",
              "      <td>16</td>\n",
              "      <td>0.2</td>\n",
              "      <td>0.0050</td>\n",
              "      <td>0.921945</td>\n",
              "      <td>50.0</td>\n",
              "      <td>8.0</td>\n",
              "    </tr>\n",
              "    <tr>\n",
              "      <th>57</th>\n",
              "      <td>LSTM</td>\n",
              "      <td>30</td>\n",
              "      <td>3</td>\n",
              "      <td>64</td>\n",
              "      <td>16</td>\n",
              "      <td>0.2</td>\n",
              "      <td>0.0050</td>\n",
              "      <td>1.045217</td>\n",
              "      <td>50.0</td>\n",
              "      <td>8.0</td>\n",
              "    </tr>\n",
              "    <tr>\n",
              "      <th>53</th>\n",
              "      <td>LSTM</td>\n",
              "      <td>15</td>\n",
              "      <td>3</td>\n",
              "      <td>128</td>\n",
              "      <td>16</td>\n",
              "      <td>0.2</td>\n",
              "      <td>0.0050</td>\n",
              "      <td>1.091249</td>\n",
              "      <td>50.0</td>\n",
              "      <td>8.0</td>\n",
              "    </tr>\n",
              "    <tr>\n",
              "      <th>56</th>\n",
              "      <td>LSTM</td>\n",
              "      <td>15</td>\n",
              "      <td>3</td>\n",
              "      <td>64</td>\n",
              "      <td>16</td>\n",
              "      <td>0.2</td>\n",
              "      <td>0.0050</td>\n",
              "      <td>1.095762</td>\n",
              "      <td>50.0</td>\n",
              "      <td>8.0</td>\n",
              "    </tr>\n",
              "    <tr>\n",
              "      <th>58</th>\n",
              "      <td>LSTM</td>\n",
              "      <td>50</td>\n",
              "      <td>3</td>\n",
              "      <td>64</td>\n",
              "      <td>16</td>\n",
              "      <td>0.2</td>\n",
              "      <td>0.0050</td>\n",
              "      <td>1.228884</td>\n",
              "      <td>50.0</td>\n",
              "      <td>8.0</td>\n",
              "    </tr>\n",
              "    <tr>\n",
              "      <th>45</th>\n",
              "      <td>LSTM</td>\n",
              "      <td>15</td>\n",
              "      <td>1</td>\n",
              "      <td>32</td>\n",
              "      <td>16</td>\n",
              "      <td>0.0</td>\n",
              "      <td>0.0050</td>\n",
              "      <td>1.242994</td>\n",
              "      <td>50.0</td>\n",
              "      <td>8.0</td>\n",
              "    </tr>\n",
              "    <tr>\n",
              "      <th>59</th>\n",
              "      <td>LSTM</td>\n",
              "      <td>100</td>\n",
              "      <td>3</td>\n",
              "      <td>64</td>\n",
              "      <td>16</td>\n",
              "      <td>0.2</td>\n",
              "      <td>0.0050</td>\n",
              "      <td>1.408197</td>\n",
              "      <td>50.0</td>\n",
              "      <td>8.0</td>\n",
              "    </tr>\n",
              "    <tr>\n",
              "      <th>50</th>\n",
              "      <td>LSTM</td>\n",
              "      <td>15</td>\n",
              "      <td>3</td>\n",
              "      <td>16</td>\n",
              "      <td>16</td>\n",
              "      <td>0.2</td>\n",
              "      <td>0.0050</td>\n",
              "      <td>1.517202</td>\n",
              "      <td>50.0</td>\n",
              "      <td>8.0</td>\n",
              "    </tr>\n",
              "    <tr>\n",
              "      <th>55</th>\n",
              "      <td>LSTM</td>\n",
              "      <td>10</td>\n",
              "      <td>3</td>\n",
              "      <td>64</td>\n",
              "      <td>16</td>\n",
              "      <td>0.2</td>\n",
              "      <td>0.0050</td>\n",
              "      <td>1.642673</td>\n",
              "      <td>50.0</td>\n",
              "      <td>8.0</td>\n",
              "    </tr>\n",
              "    <tr>\n",
              "      <th>63</th>\n",
              "      <td>LSTM</td>\n",
              "      <td>50</td>\n",
              "      <td>3</td>\n",
              "      <td>64</td>\n",
              "      <td>16</td>\n",
              "      <td>0.2</td>\n",
              "      <td>0.0050</td>\n",
              "      <td>1.645080</td>\n",
              "      <td>50.0</td>\n",
              "      <td>8.0</td>\n",
              "    </tr>\n",
              "    <tr>\n",
              "      <th>48</th>\n",
              "      <td>LSTM</td>\n",
              "      <td>15</td>\n",
              "      <td>4</td>\n",
              "      <td>32</td>\n",
              "      <td>16</td>\n",
              "      <td>0.2</td>\n",
              "      <td>0.0050</td>\n",
              "      <td>1.765182</td>\n",
              "      <td>50.0</td>\n",
              "      <td>8.0</td>\n",
              "    </tr>\n",
              "    <tr>\n",
              "      <th>49</th>\n",
              "      <td>LSTM</td>\n",
              "      <td>15</td>\n",
              "      <td>3</td>\n",
              "      <td>8</td>\n",
              "      <td>16</td>\n",
              "      <td>0.2</td>\n",
              "      <td>0.0050</td>\n",
              "      <td>1.881225</td>\n",
              "      <td>50.0</td>\n",
              "      <td>8.0</td>\n",
              "    </tr>\n",
              "    <tr>\n",
              "      <th>64</th>\n",
              "      <td>LSTM</td>\n",
              "      <td>50</td>\n",
              "      <td>3</td>\n",
              "      <td>64</td>\n",
              "      <td>16</td>\n",
              "      <td>0.2</td>\n",
              "      <td>0.0100</td>\n",
              "      <td>1.998019</td>\n",
              "      <td>50.0</td>\n",
              "      <td>8.0</td>\n",
              "    </tr>\n",
              "    <tr>\n",
              "      <th>65</th>\n",
              "      <td>LSTM</td>\n",
              "      <td>50</td>\n",
              "      <td>3</td>\n",
              "      <td>64</td>\n",
              "      <td>16</td>\n",
              "      <td>0.2</td>\n",
              "      <td>0.0500</td>\n",
              "      <td>6.861587</td>\n",
              "      <td>50.0</td>\n",
              "      <td>8.0</td>\n",
              "    </tr>\n",
              "    <tr>\n",
              "      <th>24</th>\n",
              "      <td>LSTM</td>\n",
              "      <td>15</td>\n",
              "      <td>1</td>\n",
              "      <td>64</td>\n",
              "      <td>16</td>\n",
              "      <td>0.0</td>\n",
              "      <td>0.0050</td>\n",
              "      <td>0.013232</td>\n",
              "      <td>50.0</td>\n",
              "      <td>1.0</td>\n",
              "    </tr>\n",
              "  </tbody>\n",
              "</table>\n",
              "</div>"
            ],
            "text/plain": [
              "   Model  Window  layers  hidden  batch_size  dropout  learning_rate  \\\n",
              "71  LSTM      50       3      64           8      0.2         0.0001   \n",
              "67  LSTM      50       3      64          16      0.2         0.0001   \n",
              "60  LSTM      50       3      64          16      0.2         0.0001   \n",
              "68  LSTM      50       3      64          16      0.2         0.0001   \n",
              "69  LSTM      50       3      64          16      0.2         0.0001   \n",
              "61  LSTM      50       3      64          16      0.2         0.0005   \n",
              "72  LSTM      50       3      64          16      0.2         0.0001   \n",
              "70  LSTM      50       3      64          16      0.2         0.0001   \n",
              "0   LSTM      50       3      64          16      0.2         0.0010   \n",
              "62  LSTM      50       3      64          16      0.2         0.0010   \n",
              "51  LSTM      15       3      32          16      0.2         0.0050   \n",
              "47  LSTM      15       3      32          16      0.2         0.0050   \n",
              "52  LSTM      15       3      64          16      0.2         0.0050   \n",
              "46  LSTM      15       2      32          16      0.2         0.0050   \n",
              "66  LSTM      50       3      64          16      0.2         0.0001   \n",
              "54  LSTM       5       3      64          16      0.2         0.0050   \n",
              "57  LSTM      30       3      64          16      0.2         0.0050   \n",
              "53  LSTM      15       3     128          16      0.2         0.0050   \n",
              "56  LSTM      15       3      64          16      0.2         0.0050   \n",
              "58  LSTM      50       3      64          16      0.2         0.0050   \n",
              "45  LSTM      15       1      32          16      0.0         0.0050   \n",
              "59  LSTM     100       3      64          16      0.2         0.0050   \n",
              "50  LSTM      15       3      16          16      0.2         0.0050   \n",
              "55  LSTM      10       3      64          16      0.2         0.0050   \n",
              "63  LSTM      50       3      64          16      0.2         0.0050   \n",
              "48  LSTM      15       4      32          16      0.2         0.0050   \n",
              "49  LSTM      15       3       8          16      0.2         0.0050   \n",
              "64  LSTM      50       3      64          16      0.2         0.0100   \n",
              "65  LSTM      50       3      64          16      0.2         0.0500   \n",
              "24  LSTM      15       1      64          16      0.0         0.0050   \n",
              "\n",
              "         mse  epochs  input_size  \n",
              "71  0.448719    50.0         8.0  \n",
              "67  0.470739    50.0         8.0  \n",
              "60  0.482368    50.0         8.0  \n",
              "68  0.498594   100.0         8.0  \n",
              "69  0.546594   150.0         8.0  \n",
              "61  0.552889    50.0         8.0  \n",
              "72  0.581862    50.0         8.0  \n",
              "70  0.608196   200.0         8.0  \n",
              "0   0.688171   100.0         8.0  \n",
              "62  0.735028    50.0         8.0  \n",
              "51  0.767279    50.0         8.0  \n",
              "47  0.808355    50.0         8.0  \n",
              "52  0.834365    50.0         8.0  \n",
              "46  0.874831    50.0         8.0  \n",
              "66  0.887232    10.0         8.0  \n",
              "54  0.921945    50.0         8.0  \n",
              "57  1.045217    50.0         8.0  \n",
              "53  1.091249    50.0         8.0  \n",
              "56  1.095762    50.0         8.0  \n",
              "58  1.228884    50.0         8.0  \n",
              "45  1.242994    50.0         8.0  \n",
              "59  1.408197    50.0         8.0  \n",
              "50  1.517202    50.0         8.0  \n",
              "55  1.642673    50.0         8.0  \n",
              "63  1.645080    50.0         8.0  \n",
              "48  1.765182    50.0         8.0  \n",
              "49  1.881225    50.0         8.0  \n",
              "64  1.998019    50.0         8.0  \n",
              "65  6.861587    50.0         8.0  \n",
              "24  0.013232    50.0         1.0  "
            ]
          },
          "execution_count": 66,
          "metadata": {},
          "output_type": "execute_result"
        }
      ],
      "source": [
        "a = pd.read_csv('results.csv').sort_values(by=['input_size', 'mse'], ascending=[False, True]).head(30)\n",
        "a\n"
      ]
    },
    {
      "cell_type": "code",
      "execution_count": 17,
      "id": "1c3c231a",
      "metadata": {},
      "outputs": [
        {
          "name": "stderr",
          "output_type": "stream",
          "text": [
            "/Users/alex/opt/anaconda3/lib/python3.8/site-packages/torch/nn/modules/rnn.py:58: UserWarning: dropout option adds dropout after all but last recurrent layer, so non-zero dropout expects num_layers greater than 1, but got dropout=0.1 and num_layers=1\n",
            "  warnings.warn(\"dropout option adds dropout after all but last \"\n",
            "  0%|          | 0/150 [00:00<?, ?it/s]"
          ]
        },
        {
          "name": "stderr",
          "output_type": "stream",
          "text": [
            "100%|██████████| 150/150 [10:06<00:00,  4.04s/it]\n"
          ]
        },
        {
          "data": {
            "image/png": "[encoded data removed]",
            "text/plain": [
              "<Figure size 640x480 with 1 Axes>"
            ]
          },
          "metadata": {},
          "output_type": "display_data"
        },
        {
          "name": "stderr",
          "output_type": "stream",
          "text": [
            "/Users/alex/opt/anaconda3/lib/python3.8/site-packages/torch/nn/modules/rnn.py:58: UserWarning: dropout option adds dropout after all but last recurrent layer, so non-zero dropout expects num_layers greater than 1, but got dropout=0.2 and num_layers=1\n",
            "  warnings.warn(\"dropout option adds dropout after all but last \"\n"
          ]
        },
        {
          "name": "stdout",
          "output_type": "stream",
          "text": [
            "0.0186012150581231\n"
          ]
        }
      ],
      "source": [
        "# try a model\n",
        "bc = 16\n",
        "hidden = 32\n",
        "layers = 1\n",
        "dropout = 0.1\n",
        "lr = 0.005\n",
        "\n",
        "train_model(x,y, batch_size=bc,hidden_size = hidden, num_layers = layers, dropout_rate = dropout, learning_rate = lr, part_train = part_train, part_valid = part_valid)\n",
        "pred_Y, true_Y = test_model(x,y, hidden_size = hidden, num_layers = layers, dropout_rate = dropout, part_train = part_train, part_valid = part_valid)\n",
        "mse = mean_squared_error(true_Y, pred_Y)\n",
        "print(mse)"
      ]
    },
    {
      "cell_type": "code",
      "execution_count": 8,
      "id": "aa13b52c",
      "metadata": {},
      "outputs": [
        {
          "name": "stderr",
          "output_type": "stream",
          "text": [
            "/Users/alex/opt/anaconda3/lib/python3.8/site-packages/torch/nn/modules/rnn.py:58: UserWarning: dropout option adds dropout after all but last recurrent layer, so non-zero dropout expects num_layers greater than 1, but got dropout=0.2 and num_layers=1\n",
            "  warnings.warn(\"dropout option adds dropout after all but last \"\n"
          ]
        },
        {
          "name": "stdout",
          "output_type": "stream",
          "text": [
            "0.015799871912870113\n"
          ]
        }
      ],
      "source": [
        "pred_Y, true_Y = test_model(x,y, hidden_size = hidden, num_layers = layers, dropout_rate = dropout, part_train = part_train, part_valid = part_valid)\n",
        "mse = mean_squared_error(true_Y, pred_Y)\n",
        "print(mse)"
      ]
    },
    {
      "cell_type": "code",
      "execution_count": 64,
      "id": "02f980e5",
      "metadata": {},
      "outputs": [
        {
          "data": {
            "text/html": [
              "<div>\n",
              "<style scoped>\n",
              "    .dataframe tbody tr th:only-of-type {\n",
              "        vertical-align: middle;\n",
              "    }\n",
              "\n",
              "    .dataframe tbody tr th {\n",
              "        vertical-align: top;\n",
              "    }\n",
              "\n",
              "    .dataframe thead th {\n",
              "        text-align: right;\n",
              "    }\n",
              "</style>\n",
              "<table border=\"1\" class=\"dataframe\">\n",
              "  <thead>\n",
              "    <tr style=\"text-align: right;\">\n",
              "      <th></th>\n",
              "      <th>Model</th>\n",
              "      <th>Window</th>\n",
              "      <th>layers</th>\n",
              "      <th>hidden</th>\n",
              "      <th>batch_size</th>\n",
              "      <th>dropout</th>\n",
              "      <th>learning_rate</th>\n",
              "      <th>mse</th>\n",
              "      <th>epochs</th>\n",
              "      <th>input_size</th>\n",
              "    </tr>\n",
              "  </thead>\n",
              "  <tbody>\n",
              "    <tr>\n",
              "      <th>24</th>\n",
              "      <td>LSTM</td>\n",
              "      <td>15</td>\n",
              "      <td>1</td>\n",
              "      <td>64</td>\n",
              "      <td>16</td>\n",
              "      <td>0.0</td>\n",
              "      <td>0.0050</td>\n",
              "      <td>0.013232</td>\n",
              "      <td>50.0</td>\n",
              "      <td>1.0</td>\n",
              "    </tr>\n",
              "    <tr>\n",
              "      <th>30</th>\n",
              "      <td>LSTM</td>\n",
              "      <td>15</td>\n",
              "      <td>1</td>\n",
              "      <td>64</td>\n",
              "      <td>16</td>\n",
              "      <td>0.0</td>\n",
              "      <td>0.0010</td>\n",
              "      <td>0.015424</td>\n",
              "      <td>50.0</td>\n",
              "      <td>1.0</td>\n",
              "    </tr>\n",
              "    <tr>\n",
              "      <th>38</th>\n",
              "      <td>LSTM</td>\n",
              "      <td>15</td>\n",
              "      <td>1</td>\n",
              "      <td>64</td>\n",
              "      <td>16</td>\n",
              "      <td>0.0</td>\n",
              "      <td>0.0050</td>\n",
              "      <td>0.017622</td>\n",
              "      <td>200.0</td>\n",
              "      <td>1.0</td>\n",
              "    </tr>\n",
              "    <tr>\n",
              "      <th>20</th>\n",
              "      <td>LSTM</td>\n",
              "      <td>15</td>\n",
              "      <td>1</td>\n",
              "      <td>64</td>\n",
              "      <td>16</td>\n",
              "      <td>0.0</td>\n",
              "      <td>0.0050</td>\n",
              "      <td>0.018151</td>\n",
              "      <td>50.0</td>\n",
              "      <td>1.0</td>\n",
              "    </tr>\n",
              "    <tr>\n",
              "      <th>29</th>\n",
              "      <td>LSTM</td>\n",
              "      <td>15</td>\n",
              "      <td>1</td>\n",
              "      <td>64</td>\n",
              "      <td>16</td>\n",
              "      <td>0.0</td>\n",
              "      <td>0.0005</td>\n",
              "      <td>0.019764</td>\n",
              "      <td>50.0</td>\n",
              "      <td>1.0</td>\n",
              "    </tr>\n",
              "    <tr>\n",
              "      <th>...</th>\n",
              "      <td>...</td>\n",
              "      <td>...</td>\n",
              "      <td>...</td>\n",
              "      <td>...</td>\n",
              "      <td>...</td>\n",
              "      <td>...</td>\n",
              "      <td>...</td>\n",
              "      <td>...</td>\n",
              "      <td>...</td>\n",
              "      <td>...</td>\n",
              "    </tr>\n",
              "    <tr>\n",
              "      <th>63</th>\n",
              "      <td>LSTM</td>\n",
              "      <td>50</td>\n",
              "      <td>3</td>\n",
              "      <td>64</td>\n",
              "      <td>16</td>\n",
              "      <td>0.2</td>\n",
              "      <td>0.0050</td>\n",
              "      <td>1.645080</td>\n",
              "      <td>50.0</td>\n",
              "      <td>8.0</td>\n",
              "    </tr>\n",
              "    <tr>\n",
              "      <th>48</th>\n",
              "      <td>LSTM</td>\n",
              "      <td>15</td>\n",
              "      <td>4</td>\n",
              "      <td>32</td>\n",
              "      <td>16</td>\n",
              "      <td>0.2</td>\n",
              "      <td>0.0050</td>\n",
              "      <td>1.765182</td>\n",
              "      <td>50.0</td>\n",
              "      <td>8.0</td>\n",
              "    </tr>\n",
              "    <tr>\n",
              "      <th>49</th>\n",
              "      <td>LSTM</td>\n",
              "      <td>15</td>\n",
              "      <td>3</td>\n",
              "      <td>8</td>\n",
              "      <td>16</td>\n",
              "      <td>0.2</td>\n",
              "      <td>0.0050</td>\n",
              "      <td>1.881225</td>\n",
              "      <td>50.0</td>\n",
              "      <td>8.0</td>\n",
              "    </tr>\n",
              "    <tr>\n",
              "      <th>64</th>\n",
              "      <td>LSTM</td>\n",
              "      <td>50</td>\n",
              "      <td>3</td>\n",
              "      <td>64</td>\n",
              "      <td>16</td>\n",
              "      <td>0.2</td>\n",
              "      <td>0.0100</td>\n",
              "      <td>1.998019</td>\n",
              "      <td>50.0</td>\n",
              "      <td>8.0</td>\n",
              "    </tr>\n",
              "    <tr>\n",
              "      <th>65</th>\n",
              "      <td>LSTM</td>\n",
              "      <td>50</td>\n",
              "      <td>3</td>\n",
              "      <td>64</td>\n",
              "      <td>16</td>\n",
              "      <td>0.2</td>\n",
              "      <td>0.0500</td>\n",
              "      <td>6.861587</td>\n",
              "      <td>50.0</td>\n",
              "      <td>8.0</td>\n",
              "    </tr>\n",
              "  </tbody>\n",
              "</table>\n",
              "<p>72 rows × 10 columns</p>\n",
              "</div>"
            ],
            "text/plain": [
              "   Model  Window  layers  hidden  batch_size  dropout  learning_rate  \\\n",
              "24  LSTM      15       1      64          16      0.0         0.0050   \n",
              "30  LSTM      15       1      64          16      0.0         0.0010   \n",
              "38  LSTM      15       1      64          16      0.0         0.0050   \n",
              "20  LSTM      15       1      64          16      0.0         0.0050   \n",
              "29  LSTM      15       1      64          16      0.0         0.0005   \n",
              "..   ...     ...     ...     ...         ...      ...            ...   \n",
              "63  LSTM      50       3      64          16      0.2         0.0050   \n",
              "48  LSTM      15       4      32          16      0.2         0.0050   \n",
              "49  LSTM      15       3       8          16      0.2         0.0050   \n",
              "64  LSTM      50       3      64          16      0.2         0.0100   \n",
              "65  LSTM      50       3      64          16      0.2         0.0500   \n",
              "\n",
              "         mse  epochs  input_size  \n",
              "24  0.013232    50.0         1.0  \n",
              "30  0.015424    50.0         1.0  \n",
              "38  0.017622   200.0         1.0  \n",
              "20  0.018151    50.0         1.0  \n",
              "29  0.019764    50.0         1.0  \n",
              "..       ...     ...         ...  \n",
              "63  1.645080    50.0         8.0  \n",
              "48  1.765182    50.0         8.0  \n",
              "49  1.881225    50.0         8.0  \n",
              "64  1.998019    50.0         8.0  \n",
              "65  6.861587    50.0         8.0  \n",
              "\n",
              "[72 rows x 10 columns]"
            ]
          },
          "execution_count": 64,
          "metadata": {},
          "output_type": "execute_result"
        }
      ],
      "source": [
        "pd.read_csv('results.csv').sort_values(by='mse')"
      ]
    },
    {
      "cell_type": "code",
      "execution_count": 67,
      "id": "7bd9cf19",
      "metadata": {},
      "outputs": [
        {
          "data": {
            "text/plain": [
              "0.47096672855229854"
            ]
          },
          "execution_count": 67,
          "metadata": {},
          "output_type": "execute_result"
        }
      ],
      "source": [
        "from sklearn.metrics import mean_squared_error\n",
        "a = pd.read_csv('test_normalised.csv')\n",
        "a = a[\"close_AAPL\"]\n",
        "mean_squared_error(a[:-50], a[50:])"
      ]
    },
    {
      "cell_type": "code",
      "execution_count": 80,
      "id": "e0920557",
      "metadata": {},
      "outputs": [
        {
          "name": "stderr",
          "output_type": "stream",
          "text": [
            "  0%|          | 0/100 [00:00<?, ?it/s]"
          ]
        },
        {
          "name": "stderr",
          "output_type": "stream",
          "text": [
            " 18%|█▊        | 18/100 [00:06<00:30,  2.68it/s]\n",
            "/Users/alex/opt/anaconda3/lib/python3.8/site-packages/torch/nn/modules/rnn.py:58: UserWarning: dropout option adds dropout after all but last recurrent layer, so non-zero dropout expects num_layers greater than 1, but got dropout=0.2 and num_layers=1\n",
            "  warnings.warn(\"dropout option adds dropout after all but last \"\n",
            "  0%|          | 0/100 [00:00<?, ?it/s]"
          ]
        },
        {
          "name": "stdout",
          "output_type": "stream",
          "text": [
            "1.1723989432624085e+19\n"
          ]
        },
        {
          "name": "stderr",
          "output_type": "stream",
          "text": [
            " 52%|█████▏    | 52/100 [00:17<00:16,  2.90it/s]\n",
            "/Users/alex/opt/anaconda3/lib/python3.8/site-packages/torch/nn/modules/rnn.py:58: UserWarning: dropout option adds dropout after all but last recurrent layer, so non-zero dropout expects num_layers greater than 1, but got dropout=0.2 and num_layers=1\n",
            "  warnings.warn(\"dropout option adds dropout after all but last \"\n",
            "/Users/alex/opt/anaconda3/lib/python3.8/site-packages/torch/nn/modules/rnn.py:58: UserWarning: dropout option adds dropout after all but last recurrent layer, so non-zero dropout expects num_layers greater than 1, but got dropout=0.1 and num_layers=1\n",
            "  warnings.warn(\"dropout option adds dropout after all but last \"\n",
            "  0%|          | 0/100 [00:00<?, ?it/s]"
          ]
        },
        {
          "name": "stdout",
          "output_type": "stream",
          "text": [
            "5.332262930686459e+18\n"
          ]
        },
        {
          "name": "stderr",
          "output_type": "stream",
          "text": [
            " 61%|██████    | 61/100 [00:21<00:13,  2.90it/s]\n",
            "/Users/alex/opt/anaconda3/lib/python3.8/site-packages/torch/nn/modules/rnn.py:58: UserWarning: dropout option adds dropout after all but last recurrent layer, so non-zero dropout expects num_layers greater than 1, but got dropout=0.2 and num_layers=1\n",
            "  warnings.warn(\"dropout option adds dropout after all but last \"\n",
            "/Users/alex/opt/anaconda3/lib/python3.8/site-packages/torch/nn/modules/rnn.py:58: UserWarning: dropout option adds dropout after all but last recurrent layer, so non-zero dropout expects num_layers greater than 1, but got dropout=0.1 and num_layers=1\n",
            "  warnings.warn(\"dropout option adds dropout after all but last \"\n",
            "  0%|          | 0/100 [00:00<?, ?it/s]"
          ]
        },
        {
          "name": "stdout",
          "output_type": "stream",
          "text": [
            "5.952083269740195e+18\n"
          ]
        },
        {
          "name": "stderr",
          "output_type": "stream",
          "text": [
            " 60%|██████    | 60/100 [00:20<00:13,  2.90it/s]\n",
            "/Users/alex/opt/anaconda3/lib/python3.8/site-packages/torch/nn/modules/rnn.py:58: UserWarning: dropout option adds dropout after all but last recurrent layer, so non-zero dropout expects num_layers greater than 1, but got dropout=0.2 and num_layers=1\n",
            "  warnings.warn(\"dropout option adds dropout after all but last \"\n",
            "  0%|          | 0/100 [00:00<?, ?it/s]"
          ]
        },
        {
          "name": "stdout",
          "output_type": "stream",
          "text": [
            "5.487318047782164e+18\n"
          ]
        },
        {
          "name": "stderr",
          "output_type": "stream",
          "text": [
            " 21%|██        | 21/100 [00:07<00:27,  2.83it/s]\n",
            "/Users/alex/opt/anaconda3/lib/python3.8/site-packages/torch/nn/modules/rnn.py:58: UserWarning: dropout option adds dropout after all but last recurrent layer, so non-zero dropout expects num_layers greater than 1, but got dropout=0.2 and num_layers=1\n",
            "  warnings.warn(\"dropout option adds dropout after all but last \"\n",
            "  0%|          | 0/100 [00:00<?, ?it/s]"
          ]
        },
        {
          "name": "stdout",
          "output_type": "stream",
          "text": [
            "6.192973593205392e+18\n"
          ]
        },
        {
          "name": "stderr",
          "output_type": "stream",
          "text": [
            " 39%|███▉      | 39/100 [00:13<00:20,  2.91it/s]\n",
            "/Users/alex/opt/anaconda3/lib/python3.8/site-packages/torch/nn/modules/rnn.py:58: UserWarning: dropout option adds dropout after all but last recurrent layer, so non-zero dropout expects num_layers greater than 1, but got dropout=0.2 and num_layers=1\n",
            "  warnings.warn(\"dropout option adds dropout after all but last \"\n",
            "/Users/alex/opt/anaconda3/lib/python3.8/site-packages/torch/nn/modules/rnn.py:58: UserWarning: dropout option adds dropout after all but last recurrent layer, so non-zero dropout expects num_layers greater than 1, but got dropout=0.1 and num_layers=1\n",
            "  warnings.warn(\"dropout option adds dropout after all but last \"\n",
            "  0%|          | 0/100 [00:00<?, ?it/s]"
          ]
        },
        {
          "name": "stdout",
          "output_type": "stream",
          "text": [
            "5.40737792353439e+18\n"
          ]
        },
        {
          "name": "stderr",
          "output_type": "stream",
          "text": [
            " 26%|██▌       | 26/100 [00:09<00:25,  2.87it/s]\n",
            "/Users/alex/opt/anaconda3/lib/python3.8/site-packages/torch/nn/modules/rnn.py:58: UserWarning: dropout option adds dropout after all but last recurrent layer, so non-zero dropout expects num_layers greater than 1, but got dropout=0.2 and num_layers=1\n",
            "  warnings.warn(\"dropout option adds dropout after all but last \"\n",
            "/Users/alex/opt/anaconda3/lib/python3.8/site-packages/torch/nn/modules/rnn.py:58: UserWarning: dropout option adds dropout after all but last recurrent layer, so non-zero dropout expects num_layers greater than 1, but got dropout=0.1 and num_layers=1\n",
            "  warnings.warn(\"dropout option adds dropout after all but last \"\n",
            "  0%|          | 0/100 [00:00<?, ?it/s]"
          ]
        },
        {
          "name": "stdout",
          "output_type": "stream",
          "text": [
            "6.373807512177333e+18\n"
          ]
        },
        {
          "name": "stderr",
          "output_type": "stream",
          "text": [
            " 43%|████▎     | 43/100 [00:14<00:19,  2.92it/s]\n",
            "/Users/alex/opt/anaconda3/lib/python3.8/site-packages/torch/nn/modules/rnn.py:58: UserWarning: dropout option adds dropout after all but last recurrent layer, so non-zero dropout expects num_layers greater than 1, but got dropout=0.2 and num_layers=1\n",
            "  warnings.warn(\"dropout option adds dropout after all but last \"\n",
            "  0%|          | 0/100 [00:00<?, ?it/s]"
          ]
        },
        {
          "name": "stdout",
          "output_type": "stream",
          "text": [
            "5.409817483352008e+18\n"
          ]
        },
        {
          "name": "stderr",
          "output_type": "stream",
          "text": [
            " 56%|█████▌    | 56/100 [00:21<00:16,  2.59it/s]\n",
            "/Users/alex/opt/anaconda3/lib/python3.8/site-packages/torch/nn/modules/rnn.py:58: UserWarning: dropout option adds dropout after all but last recurrent layer, so non-zero dropout expects num_layers greater than 1, but got dropout=0.2 and num_layers=1\n",
            "  warnings.warn(\"dropout option adds dropout after all but last \"\n",
            "  0%|          | 0/100 [00:00<?, ?it/s]"
          ]
        },
        {
          "name": "stdout",
          "output_type": "stream",
          "text": [
            "5.386642391994144e+18\n"
          ]
        },
        {
          "name": "stderr",
          "output_type": "stream",
          "text": [
            " 29%|██▉       | 29/100 [00:12<00:29,  2.40it/s]\n",
            "/Users/alex/opt/anaconda3/lib/python3.8/site-packages/torch/nn/modules/rnn.py:58: UserWarning: dropout option adds dropout after all but last recurrent layer, so non-zero dropout expects num_layers greater than 1, but got dropout=0.2 and num_layers=1\n",
            "  warnings.warn(\"dropout option adds dropout after all but last \"\n",
            "/Users/alex/opt/anaconda3/lib/python3.8/site-packages/torch/nn/modules/rnn.py:58: UserWarning: dropout option adds dropout after all but last recurrent layer, so non-zero dropout expects num_layers greater than 1, but got dropout=0.1 and num_layers=1\n",
            "  warnings.warn(\"dropout option adds dropout after all but last \"\n",
            "  0%|          | 0/100 [00:00<?, ?it/s]"
          ]
        },
        {
          "name": "stdout",
          "output_type": "stream",
          "text": [
            "6.122483967775784e+18\n"
          ]
        },
        {
          "name": "stderr",
          "output_type": "stream",
          "text": [
            " 40%|████      | 40/100 [00:15<00:22,  2.65it/s]\n",
            "/Users/alex/opt/anaconda3/lib/python3.8/site-packages/torch/nn/modules/rnn.py:58: UserWarning: dropout option adds dropout after all but last recurrent layer, so non-zero dropout expects num_layers greater than 1, but got dropout=0.2 and num_layers=1\n",
            "  warnings.warn(\"dropout option adds dropout after all but last \"\n",
            "/Users/alex/opt/anaconda3/lib/python3.8/site-packages/torch/nn/modules/rnn.py:58: UserWarning: dropout option adds dropout after all but last recurrent layer, so non-zero dropout expects num_layers greater than 1, but got dropout=0.1 and num_layers=1\n",
            "  warnings.warn(\"dropout option adds dropout after all but last \"\n",
            "  0%|          | 0/100 [00:00<?, ?it/s]"
          ]
        },
        {
          "name": "stdout",
          "output_type": "stream",
          "text": [
            "6.120300072593945e+18\n"
          ]
        },
        {
          "name": "stderr",
          "output_type": "stream",
          "text": [
            " 55%|█████▌    | 55/100 [00:21<00:17,  2.58it/s]\n",
            "/Users/alex/opt/anaconda3/lib/python3.8/site-packages/torch/nn/modules/rnn.py:58: UserWarning: dropout option adds dropout after all but last recurrent layer, so non-zero dropout expects num_layers greater than 1, but got dropout=0.2 and num_layers=1\n",
            "  warnings.warn(\"dropout option adds dropout after all but last \"\n",
            "  0%|          | 0/100 [00:00<?, ?it/s]"
          ]
        },
        {
          "name": "stdout",
          "output_type": "stream",
          "text": [
            "5.365206332098568e+18\n"
          ]
        },
        {
          "name": "stderr",
          "output_type": "stream",
          "text": [
            " 35%|███▌      | 35/100 [00:17<00:31,  2.03it/s]\n",
            "/Users/alex/opt/anaconda3/lib/python3.8/site-packages/torch/nn/modules/rnn.py:58: UserWarning: dropout option adds dropout after all but last recurrent layer, so non-zero dropout expects num_layers greater than 1, but got dropout=0.2 and num_layers=1\n",
            "  warnings.warn(\"dropout option adds dropout after all but last \"\n",
            "  0%|          | 0/100 [00:00<?, ?it/s]"
          ]
        },
        {
          "name": "stdout",
          "output_type": "stream",
          "text": [
            "5.396681061844523e+18\n"
          ]
        },
        {
          "name": "stderr",
          "output_type": "stream",
          "text": [
            " 41%|████      | 41/100 [00:18<00:27,  2.17it/s]\n",
            "/Users/alex/opt/anaconda3/lib/python3.8/site-packages/torch/nn/modules/rnn.py:58: UserWarning: dropout option adds dropout after all but last recurrent layer, so non-zero dropout expects num_layers greater than 1, but got dropout=0.2 and num_layers=1\n",
            "  warnings.warn(\"dropout option adds dropout after all but last \"\n",
            "/Users/alex/opt/anaconda3/lib/python3.8/site-packages/torch/nn/modules/rnn.py:58: UserWarning: dropout option adds dropout after all but last recurrent layer, so non-zero dropout expects num_layers greater than 1, but got dropout=0.1 and num_layers=1\n",
            "  warnings.warn(\"dropout option adds dropout after all but last \"\n",
            "  0%|          | 0/100 [00:00<?, ?it/s]"
          ]
        },
        {
          "name": "stdout",
          "output_type": "stream",
          "text": [
            "5.25872375248053e+18\n"
          ]
        },
        {
          "name": "stderr",
          "output_type": "stream",
          "text": [
            " 45%|████▌     | 45/100 [00:19<00:24,  2.27it/s]\n",
            "/Users/alex/opt/anaconda3/lib/python3.8/site-packages/torch/nn/modules/rnn.py:58: UserWarning: dropout option adds dropout after all but last recurrent layer, so non-zero dropout expects num_layers greater than 1, but got dropout=0.2 and num_layers=1\n",
            "  warnings.warn(\"dropout option adds dropout after all but last \"\n",
            "/Users/alex/opt/anaconda3/lib/python3.8/site-packages/torch/nn/modules/rnn.py:58: UserWarning: dropout option adds dropout after all but last recurrent layer, so non-zero dropout expects num_layers greater than 1, but got dropout=0.1 and num_layers=1\n",
            "  warnings.warn(\"dropout option adds dropout after all but last \"\n",
            "  0%|          | 0/100 [00:00<?, ?it/s]"
          ]
        },
        {
          "name": "stdout",
          "output_type": "stream",
          "text": [
            "5.426036969100071e+18\n"
          ]
        },
        {
          "name": "stderr",
          "output_type": "stream",
          "text": [
            " 51%|█████     | 51/100 [00:22<00:21,  2.29it/s]\n",
            "/Users/alex/opt/anaconda3/lib/python3.8/site-packages/torch/nn/modules/rnn.py:58: UserWarning: dropout option adds dropout after all but last recurrent layer, so non-zero dropout expects num_layers greater than 1, but got dropout=0.2 and num_layers=1\n",
            "  warnings.warn(\"dropout option adds dropout after all but last \"\n",
            "  0%|          | 0/100 [00:00<?, ?it/s]"
          ]
        },
        {
          "name": "stdout",
          "output_type": "stream",
          "text": [
            "5.18340647287689e+18\n"
          ]
        },
        {
          "name": "stderr",
          "output_type": "stream",
          "text": [
            " 37%|███▋      | 37/100 [00:24<00:41,  1.51it/s]\n",
            "/Users/alex/opt/anaconda3/lib/python3.8/site-packages/torch/nn/modules/rnn.py:58: UserWarning: dropout option adds dropout after all but last recurrent layer, so non-zero dropout expects num_layers greater than 1, but got dropout=0.2 and num_layers=1\n",
            "  warnings.warn(\"dropout option adds dropout after all but last \"\n",
            "  0%|          | 0/100 [00:00<?, ?it/s]"
          ]
        },
        {
          "name": "stdout",
          "output_type": "stream",
          "text": [
            "6.415757747674821e+18\n"
          ]
        },
        {
          "name": "stderr",
          "output_type": "stream",
          "text": [
            " 45%|████▌     | 45/100 [00:29<00:35,  1.53it/s]\n",
            "/Users/alex/opt/anaconda3/lib/python3.8/site-packages/torch/nn/modules/rnn.py:58: UserWarning: dropout option adds dropout after all but last recurrent layer, so non-zero dropout expects num_layers greater than 1, but got dropout=0.2 and num_layers=1\n",
            "  warnings.warn(\"dropout option adds dropout after all but last \"\n",
            "/Users/alex/opt/anaconda3/lib/python3.8/site-packages/torch/nn/modules/rnn.py:58: UserWarning: dropout option adds dropout after all but last recurrent layer, so non-zero dropout expects num_layers greater than 1, but got dropout=0.1 and num_layers=1\n",
            "  warnings.warn(\"dropout option adds dropout after all but last \"\n",
            "  0%|          | 0/100 [00:00<?, ?it/s]"
          ]
        },
        {
          "name": "stdout",
          "output_type": "stream",
          "text": [
            "5.321855999653327e+18\n"
          ]
        },
        {
          "name": "stderr",
          "output_type": "stream",
          "text": [
            " 18%|█▊        | 18/100 [00:12<00:55,  1.49it/s]\n",
            "/Users/alex/opt/anaconda3/lib/python3.8/site-packages/torch/nn/modules/rnn.py:58: UserWarning: dropout option adds dropout after all but last recurrent layer, so non-zero dropout expects num_layers greater than 1, but got dropout=0.2 and num_layers=1\n",
            "  warnings.warn(\"dropout option adds dropout after all but last \"\n",
            "/Users/alex/opt/anaconda3/lib/python3.8/site-packages/torch/nn/modules/rnn.py:58: UserWarning: dropout option adds dropout after all but last recurrent layer, so non-zero dropout expects num_layers greater than 1, but got dropout=0.1 and num_layers=1\n",
            "  warnings.warn(\"dropout option adds dropout after all but last \"\n",
            "  0%|          | 0/100 [00:00<?, ?it/s]"
          ]
        },
        {
          "name": "stdout",
          "output_type": "stream",
          "text": [
            "1.1788199903694787e+19\n"
          ]
        },
        {
          "name": "stderr",
          "output_type": "stream",
          "text": [
            " 27%|██▋       | 27/100 [00:17<00:48,  1.51it/s]\n",
            "/Users/alex/opt/anaconda3/lib/python3.8/site-packages/torch/nn/modules/rnn.py:58: UserWarning: dropout option adds dropout after all but last recurrent layer, so non-zero dropout expects num_layers greater than 1, but got dropout=0.2 and num_layers=1\n",
            "  warnings.warn(\"dropout option adds dropout after all but last \"\n",
            "  0%|          | 0/100 [00:00<?, ?it/s]"
          ]
        },
        {
          "name": "stdout",
          "output_type": "stream",
          "text": [
            "6.948694369842739e+18\n"
          ]
        },
        {
          "name": "stderr",
          "output_type": "stream",
          "text": [
            " 16%|█▌        | 16/100 [00:10<00:55,  1.52it/s]\n",
            "  0%|          | 0/100 [00:00<?, ?it/s]"
          ]
        },
        {
          "name": "stdout",
          "output_type": "stream",
          "text": [
            "6.429997499528236e+18\n"
          ]
        },
        {
          "name": "stderr",
          "output_type": "stream",
          "text": [
            " 48%|████▊     | 48/100 [00:30<00:32,  1.58it/s]\n",
            "  0%|          | 0/100 [00:00<?, ?it/s]"
          ]
        },
        {
          "name": "stdout",
          "output_type": "stream",
          "text": [
            "5.588754663094841e+18\n"
          ]
        },
        {
          "name": "stderr",
          "output_type": "stream",
          "text": [
            " 20%|██        | 20/100 [00:13<00:52,  1.51it/s]\n",
            "  0%|          | 0/100 [00:00<?, ?it/s]"
          ]
        },
        {
          "name": "stdout",
          "output_type": "stream",
          "text": [
            "1.2463078776785762e+19\n"
          ]
        },
        {
          "name": "stderr",
          "output_type": "stream",
          "text": [
            " 37%|███▋      | 37/100 [00:24<00:41,  1.52it/s]\n",
            "  0%|          | 0/100 [00:00<?, ?it/s]"
          ]
        },
        {
          "name": "stdout",
          "output_type": "stream",
          "text": [
            "8.889431785345876e+18\n"
          ]
        },
        {
          "name": "stderr",
          "output_type": "stream",
          "text": [
            " 34%|███▍      | 34/100 [00:21<00:41,  1.59it/s]\n",
            "  0%|          | 0/100 [00:00<?, ?it/s]"
          ]
        },
        {
          "name": "stdout",
          "output_type": "stream",
          "text": [
            "5.859454970572276e+18\n"
          ]
        },
        {
          "name": "stderr",
          "output_type": "stream",
          "text": [
            " 52%|█████▏    | 52/100 [00:32<00:29,  1.61it/s]\n",
            "  0%|          | 0/100 [00:00<?, ?it/s]"
          ]
        },
        {
          "name": "stdout",
          "output_type": "stream",
          "text": [
            "5.412390336783402e+18\n"
          ]
        },
        {
          "name": "stderr",
          "output_type": "stream",
          "text": [
            " 21%|██        | 21/100 [00:13<00:51,  1.53it/s]\n",
            "  0%|          | 0/100 [00:00<?, ?it/s]"
          ]
        },
        {
          "name": "stdout",
          "output_type": "stream",
          "text": [
            "1.0542383648636254e+19\n"
          ]
        },
        {
          "name": "stderr",
          "output_type": "stream",
          "text": [
            " 34%|███▍      | 34/100 [00:21<00:42,  1.56it/s]\n",
            "  0%|          | 0/100 [00:00<?, ?it/s]"
          ]
        },
        {
          "name": "stdout",
          "output_type": "stream",
          "text": [
            "8.490138644226982e+18\n"
          ]
        },
        {
          "name": "stderr",
          "output_type": "stream",
          "text": [
            " 31%|███       | 31/100 [00:22<00:49,  1.40it/s]\n",
            "  0%|          | 0/100 [00:00<?, ?it/s]"
          ]
        },
        {
          "name": "stdout",
          "output_type": "stream",
          "text": [
            "5.710026382305457e+18\n"
          ]
        },
        {
          "name": "stderr",
          "output_type": "stream",
          "text": [
            " 39%|███▉      | 39/100 [00:27<00:43,  1.41it/s]\n",
            "  0%|          | 0/100 [00:00<?, ?it/s]"
          ]
        },
        {
          "name": "stdout",
          "output_type": "stream",
          "text": [
            "5.264307103286992e+18\n"
          ]
        },
        {
          "name": "stderr",
          "output_type": "stream",
          "text": [
            " 33%|███▎      | 33/100 [00:23<00:48,  1.38it/s]\n",
            "  0%|          | 0/100 [00:00<?, ?it/s]"
          ]
        },
        {
          "name": "stdout",
          "output_type": "stream",
          "text": [
            "9.293755140325499e+18\n"
          ]
        },
        {
          "name": "stderr",
          "output_type": "stream",
          "text": [
            " 47%|████▋     | 47/100 [00:33<00:37,  1.40it/s]\n",
            "  0%|          | 0/100 [00:00<?, ?it/s]"
          ]
        },
        {
          "name": "stdout",
          "output_type": "stream",
          "text": [
            "5.884773424792076e+18\n"
          ]
        },
        {
          "name": "stderr",
          "output_type": "stream",
          "text": [
            " 27%|██▋       | 27/100 [00:52<02:22,  1.96s/it]\n",
            "  0%|          | 0/100 [00:00<?, ?it/s]"
          ]
        },
        {
          "name": "stdout",
          "output_type": "stream",
          "text": [
            "1.0292811278765045e+21\n"
          ]
        },
        {
          "name": "stderr",
          "output_type": "stream",
          "text": [
            " 44%|████▍     | 44/100 [00:36<00:46,  1.19it/s]\n",
            "  0%|          | 0/100 [00:00<?, ?it/s]"
          ]
        },
        {
          "name": "stdout",
          "output_type": "stream",
          "text": [
            "5.629710679487919e+18\n"
          ]
        },
        {
          "name": "stderr",
          "output_type": "stream",
          "text": [
            " 18%|█▊        | 18/100 [00:15<01:12,  1.14it/s]\n",
            "  0%|          | 0/100 [00:00<?, ?it/s]"
          ]
        },
        {
          "name": "stdout",
          "output_type": "stream",
          "text": [
            "7.068817881539655e+18\n"
          ]
        },
        {
          "name": "stderr",
          "output_type": "stream",
          "text": [
            " 24%|██▍       | 24/100 [00:20<01:05,  1.15it/s]\n",
            "  0%|          | 0/100 [00:00<?, ?it/s]"
          ]
        },
        {
          "name": "stdout",
          "output_type": "stream",
          "text": [
            "7.247102803302409e+18\n"
          ]
        },
        {
          "name": "stderr",
          "output_type": "stream",
          "text": [
            " 16%|█▌        | 16/100 [00:32<02:50,  2.03s/it]\n",
            "  0%|          | 0/100 [00:00<?, ?it/s]"
          ]
        },
        {
          "name": "stdout",
          "output_type": "stream",
          "text": [
            "1.3787196891346966e+21\n"
          ]
        },
        {
          "name": "stderr",
          "output_type": "stream",
          "text": [
            " 48%|████▊     | 48/100 [01:03<01:09,  1.33s/it]\n",
            "  0%|          | 0/100 [00:00<?, ?it/s]"
          ]
        },
        {
          "name": "stdout",
          "output_type": "stream",
          "text": [
            "5.389478656890913e+18\n"
          ]
        },
        {
          "name": "stderr",
          "output_type": "stream",
          "text": [
            " 71%|███████   | 71/100 [04:44<01:56,  4.00s/it]\n",
            "  0%|          | 0/100 [00:00<?, ?it/s]"
          ]
        },
        {
          "name": "stdout",
          "output_type": "stream",
          "text": [
            "1.109559165364495e+19\n"
          ]
        },
        {
          "name": "stderr",
          "output_type": "stream",
          "text": [
            " 31%|███       | 31/100 [00:42<01:33,  1.36s/it]\n",
            "  0%|          | 0/100 [00:00<?, ?it/s]"
          ]
        },
        {
          "name": "stdout",
          "output_type": "stream",
          "text": [
            "6.558310532574482e+18\n"
          ]
        },
        {
          "name": "stderr",
          "output_type": "stream",
          "text": [
            " 35%|███▌      | 35/100 [00:33<01:02,  1.03it/s]\n",
            "  0%|          | 0/100 [00:00<?, ?it/s]"
          ]
        },
        {
          "name": "stdout",
          "output_type": "stream",
          "text": [
            "1.1933599286436768e+19\n"
          ]
        },
        {
          "name": "stderr",
          "output_type": "stream",
          "text": [
            " 46%|████▌     | 46/100 [00:42<00:50,  1.07it/s]\n",
            "  0%|          | 0/100 [00:00<?, ?it/s]"
          ]
        },
        {
          "name": "stdout",
          "output_type": "stream",
          "text": [
            "5.878577114951249e+18\n"
          ]
        },
        {
          "name": "stderr",
          "output_type": "stream",
          "text": [
            " 24%|██▍       | 24/100 [00:22<01:12,  1.05it/s]\n",
            "  0%|          | 0/100 [00:00<?, ?it/s]"
          ]
        },
        {
          "name": "stdout",
          "output_type": "stream",
          "text": [
            "1.1630747250176907e+19\n"
          ]
        },
        {
          "name": "stderr",
          "output_type": "stream",
          "text": [
            " 30%|███       | 30/100 [00:28<01:06,  1.05it/s]\n",
            "  0%|          | 0/100 [00:00<?, ?it/s]"
          ]
        },
        {
          "name": "stdout",
          "output_type": "stream",
          "text": [
            "1.3451339853318994e+19\n"
          ]
        },
        {
          "name": "stderr",
          "output_type": "stream",
          "text": [
            " 42%|████▏     | 42/100 [00:38<00:53,  1.09it/s]\n",
            "  0%|          | 0/100 [00:00<?, ?it/s]"
          ]
        },
        {
          "name": "stdout",
          "output_type": "stream",
          "text": [
            "5.959923520144504e+18\n"
          ]
        },
        {
          "name": "stderr",
          "output_type": "stream",
          "text": [
            " 56%|█████▌    | 56/100 [00:49<00:39,  1.12it/s]\n",
            "  0%|          | 0/100 [00:00<?, ?it/s]"
          ]
        },
        {
          "name": "stdout",
          "output_type": "stream",
          "text": [
            "5.185296188225938e+18\n"
          ]
        },
        {
          "name": "stderr",
          "output_type": "stream",
          "text": [
            " 27%|██▋       | 27/100 [00:24<01:07,  1.08it/s]\n",
            "  0%|          | 0/100 [00:00<?, ?it/s]"
          ]
        },
        {
          "name": "stdout",
          "output_type": "stream",
          "text": [
            "7.584097470472791e+18\n"
          ]
        },
        {
          "name": "stderr",
          "output_type": "stream",
          "text": [
            " 22%|██▏       | 22/100 [00:20<01:12,  1.07it/s]\n",
            "  0%|          | 0/100 [00:00<?, ?it/s]"
          ]
        },
        {
          "name": "stdout",
          "output_type": "stream",
          "text": [
            "1.7283116106661845e+19\n"
          ]
        },
        {
          "name": "stderr",
          "output_type": "stream",
          "text": [
            " 32%|███▏      | 32/100 [00:34<01:13,  1.08s/it]\n",
            "  0%|          | 0/100 [00:00<?, ?it/s]"
          ]
        },
        {
          "name": "stdout",
          "output_type": "stream",
          "text": [
            "2.9149870404202614e+20\n"
          ]
        },
        {
          "name": "stderr",
          "output_type": "stream",
          "text": [
            " 61%|██████    | 61/100 [01:03<00:40,  1.05s/it]\n",
            "  0%|          | 0/100 [00:00<?, ?it/s]"
          ]
        },
        {
          "name": "stdout",
          "output_type": "stream",
          "text": [
            "5.437937047084937e+18\n"
          ]
        },
        {
          "name": "stderr",
          "output_type": "stream",
          "text": [
            " 56%|█████▌    | 56/100 [00:59<00:47,  1.07s/it]\n",
            "  0%|          | 0/100 [00:00<?, ?it/s]"
          ]
        },
        {
          "name": "stdout",
          "output_type": "stream",
          "text": [
            "9.379031726304186e+18\n"
          ]
        },
        {
          "name": "stderr",
          "output_type": "stream",
          "text": [
            " 28%|██▊       | 28/100 [00:30<01:18,  1.09s/it]\n",
            "  0%|          | 0/100 [00:00<?, ?it/s]"
          ]
        },
        {
          "name": "stdout",
          "output_type": "stream",
          "text": [
            "8.048045317913615e+18\n"
          ]
        },
        {
          "name": "stderr",
          "output_type": "stream",
          "text": [
            " 30%|███       | 30/100 [00:38<01:30,  1.29s/it]\n",
            "  0%|          | 0/100 [00:00<?, ?it/s]"
          ]
        },
        {
          "name": "stdout",
          "output_type": "stream",
          "text": [
            "7.832009130707464e+18\n"
          ]
        },
        {
          "name": "stderr",
          "output_type": "stream",
          "text": [
            " 35%|███▌      | 35/100 [00:45<01:24,  1.31s/it]\n",
            "  0%|          | 0/100 [00:00<?, ?it/s]"
          ]
        },
        {
          "name": "stdout",
          "output_type": "stream",
          "text": [
            "5.544043288939519e+18\n"
          ]
        },
        {
          "name": "stderr",
          "output_type": "stream",
          "text": [
            " 43%|████▎     | 43/100 [01:02<01:23,  1.46s/it]\n",
            "  0%|          | 0/100 [00:00<?, ?it/s]"
          ]
        },
        {
          "name": "stdout",
          "output_type": "stream",
          "text": [
            "9.628935193550296e+20\n"
          ]
        },
        {
          "name": "stderr",
          "output_type": "stream",
          "text": [
            " 27%|██▋       | 27/100 [00:35<01:36,  1.32s/it]\n",
            "  0%|          | 0/100 [00:00<?, ?it/s]"
          ]
        },
        {
          "name": "stdout",
          "output_type": "stream",
          "text": [
            "7.765653606304243e+18\n"
          ]
        },
        {
          "name": "stderr",
          "output_type": "stream",
          "text": [
            " 23%|██▎       | 23/100 [01:53<06:21,  4.95s/it]\n",
            "  0%|          | 0/100 [00:00<?, ?it/s]"
          ]
        },
        {
          "name": "stdout",
          "output_type": "stream",
          "text": [
            "3.814021529265054e+20\n"
          ]
        },
        {
          "name": "stderr",
          "output_type": "stream",
          "text": [
            " 22%|██▏       | 22/100 [00:47<02:48,  2.16s/it]\n",
            "  0%|          | 0/100 [00:00<?, ?it/s]"
          ]
        },
        {
          "name": "stdout",
          "output_type": "stream",
          "text": [
            "5.319198049737188e+18\n"
          ]
        },
        {
          "name": "stderr",
          "output_type": "stream",
          "text": [
            " 24%|██▍       | 24/100 [01:58<06:16,  4.95s/it]\n",
            "  0%|          | 0/100 [00:00<?, ?it/s]"
          ]
        },
        {
          "name": "stdout",
          "output_type": "stream",
          "text": [
            "1.2113713406774034e+20\n"
          ]
        },
        {
          "name": "stderr",
          "output_type": "stream",
          "text": [
            " 41%|████      | 41/100 [33:11<47:45, 48.57s/it]    \n",
            "  0%|          | 0/100 [00:00<?, ?it/s]"
          ]
        },
        {
          "name": "stdout",
          "output_type": "stream",
          "text": [
            "6.735552614920431e+18\n"
          ]
        },
        {
          "name": "stderr",
          "output_type": "stream",
          "text": [
            " 34%|███▍      | 34/100 [00:06<00:12,  5.22it/s]\n",
            "/Users/alex/opt/anaconda3/lib/python3.8/site-packages/torch/nn/modules/rnn.py:58: UserWarning: dropout option adds dropout after all but last recurrent layer, so non-zero dropout expects num_layers greater than 1, but got dropout=0.2 and num_layers=1\n",
            "  warnings.warn(\"dropout option adds dropout after all but last \"\n",
            "  1%|          | 1/100 [00:00<00:16,  5.84it/s]"
          ]
        },
        {
          "name": "stdout",
          "output_type": "stream",
          "text": [
            "5.562382944158393e+18\n"
          ]
        },
        {
          "name": "stderr",
          "output_type": "stream",
          "text": [
            " 62%|██████▏   | 62/100 [00:09<00:05,  6.41it/s]\n",
            "/Users/alex/opt/anaconda3/lib/python3.8/site-packages/torch/nn/modules/rnn.py:58: UserWarning: dropout option adds dropout after all but last recurrent layer, so non-zero dropout expects num_layers greater than 1, but got dropout=0.2 and num_layers=1\n",
            "  warnings.warn(\"dropout option adds dropout after all but last \"\n",
            "/Users/alex/opt/anaconda3/lib/python3.8/site-packages/torch/nn/modules/rnn.py:58: UserWarning: dropout option adds dropout after all but last recurrent layer, so non-zero dropout expects num_layers greater than 1, but got dropout=0.1 and num_layers=1\n",
            "  warnings.warn(\"dropout option adds dropout after all but last \"\n",
            "  1%|          | 1/100 [00:00<00:12,  7.84it/s]"
          ]
        },
        {
          "name": "stdout",
          "output_type": "stream",
          "text": [
            "6.404682233641883e+18\n"
          ]
        },
        {
          "name": "stderr",
          "output_type": "stream",
          "text": [
            " 37%|███▋      | 37/100 [00:04<00:08,  7.51it/s]\n",
            "/Users/alex/opt/anaconda3/lib/python3.8/site-packages/torch/nn/modules/rnn.py:58: UserWarning: dropout option adds dropout after all but last recurrent layer, so non-zero dropout expects num_layers greater than 1, but got dropout=0.2 and num_layers=1\n",
            "  warnings.warn(\"dropout option adds dropout after all but last \"\n",
            "/Users/alex/opt/anaconda3/lib/python3.8/site-packages/torch/nn/modules/rnn.py:58: UserWarning: dropout option adds dropout after all but last recurrent layer, so non-zero dropout expects num_layers greater than 1, but got dropout=0.1 and num_layers=1\n",
            "  warnings.warn(\"dropout option adds dropout after all but last \"\n",
            "  1%|          | 1/100 [00:00<00:13,  7.10it/s]"
          ]
        },
        {
          "name": "stdout",
          "output_type": "stream",
          "text": [
            "5.36688514828928e+18\n"
          ]
        },
        {
          "name": "stderr",
          "output_type": "stream",
          "text": [
            " 49%|████▉     | 49/100 [00:06<00:06,  7.54it/s]\n",
            "/Users/alex/opt/anaconda3/lib/python3.8/site-packages/torch/nn/modules/rnn.py:58: UserWarning: dropout option adds dropout after all but last recurrent layer, so non-zero dropout expects num_layers greater than 1, but got dropout=0.2 and num_layers=1\n",
            "  warnings.warn(\"dropout option adds dropout after all but last \"\n",
            "  1%|          | 1/100 [00:00<00:12,  8.02it/s]"
          ]
        },
        {
          "name": "stdout",
          "output_type": "stream",
          "text": [
            "5.909238175574601e+18\n"
          ]
        },
        {
          "name": "stderr",
          "output_type": "stream",
          "text": [
            " 53%|█████▎    | 53/100 [00:07<00:07,  6.68it/s]\n",
            "/Users/alex/opt/anaconda3/lib/python3.8/site-packages/torch/nn/modules/rnn.py:58: UserWarning: dropout option adds dropout after all but last recurrent layer, so non-zero dropout expects num_layers greater than 1, but got dropout=0.2 and num_layers=1\n",
            "  warnings.warn(\"dropout option adds dropout after all but last \"\n",
            "  1%|          | 1/100 [00:00<00:14,  6.95it/s]"
          ]
        },
        {
          "name": "stdout",
          "output_type": "stream",
          "text": [
            "5.251045282080182e+18\n"
          ]
        },
        {
          "name": "stderr",
          "output_type": "stream",
          "text": [
            " 68%|██████▊   | 68/100 [00:13<00:06,  5.09it/s]\n",
            "/Users/alex/opt/anaconda3/lib/python3.8/site-packages/torch/nn/modules/rnn.py:58: UserWarning: dropout option adds dropout after all but last recurrent layer, so non-zero dropout expects num_layers greater than 1, but got dropout=0.2 and num_layers=1\n",
            "  warnings.warn(\"dropout option adds dropout after all but last \"\n",
            "/Users/alex/opt/anaconda3/lib/python3.8/site-packages/torch/nn/modules/rnn.py:58: UserWarning: dropout option adds dropout after all but last recurrent layer, so non-zero dropout expects num_layers greater than 1, but got dropout=0.1 and num_layers=1\n",
            "  warnings.warn(\"dropout option adds dropout after all but last \"\n",
            "  0%|          | 0/100 [00:00<?, ?it/s]"
          ]
        },
        {
          "name": "stdout",
          "output_type": "stream",
          "text": [
            "6.401711113391627e+18\n"
          ]
        },
        {
          "name": "stderr",
          "output_type": "stream",
          "text": [
            " 42%|████▏     | 42/100 [00:09<00:12,  4.62it/s]\n",
            "/Users/alex/opt/anaconda3/lib/python3.8/site-packages/torch/nn/modules/rnn.py:58: UserWarning: dropout option adds dropout after all but last recurrent layer, so non-zero dropout expects num_layers greater than 1, but got dropout=0.2 and num_layers=1\n",
            "  warnings.warn(\"dropout option adds dropout after all but last \"\n",
            "/Users/alex/opt/anaconda3/lib/python3.8/site-packages/torch/nn/modules/rnn.py:58: UserWarning: dropout option adds dropout after all but last recurrent layer, so non-zero dropout expects num_layers greater than 1, but got dropout=0.1 and num_layers=1\n",
            "  warnings.warn(\"dropout option adds dropout after all but last \"\n",
            "  0%|          | 0/100 [00:00<?, ?it/s]"
          ]
        },
        {
          "name": "stdout",
          "output_type": "stream",
          "text": [
            "5.640865439120378e+18\n"
          ]
        },
        {
          "name": "stderr",
          "output_type": "stream",
          "text": [
            " 85%|████████▌ | 85/100 [00:16<00:02,  5.30it/s]\n",
            "/Users/alex/opt/anaconda3/lib/python3.8/site-packages/torch/nn/modules/rnn.py:58: UserWarning: dropout option adds dropout after all but last recurrent layer, so non-zero dropout expects num_layers greater than 1, but got dropout=0.2 and num_layers=1\n",
            "  warnings.warn(\"dropout option adds dropout after all but last \"\n",
            "  1%|          | 1/100 [00:00<00:17,  5.80it/s]"
          ]
        },
        {
          "name": "stdout",
          "output_type": "stream",
          "text": [
            "6.656441023229509e+18\n"
          ]
        },
        {
          "name": "stderr",
          "output_type": "stream",
          "text": [
            " 42%|████▏     | 42/100 [00:07<00:09,  5.82it/s]\n",
            "/Users/alex/opt/anaconda3/lib/python3.8/site-packages/torch/nn/modules/rnn.py:58: UserWarning: dropout option adds dropout after all but last recurrent layer, so non-zero dropout expects num_layers greater than 1, but got dropout=0.2 and num_layers=1\n",
            "  warnings.warn(\"dropout option adds dropout after all but last \"\n",
            "  1%|          | 1/100 [00:00<00:15,  6.54it/s]"
          ]
        },
        {
          "name": "stdout",
          "output_type": "stream",
          "text": [
            "5.720282740049847e+18\n"
          ]
        },
        {
          "name": "stderr",
          "output_type": "stream",
          "text": [
            " 62%|██████▏   | 62/100 [00:10<00:06,  6.10it/s]\n",
            "/Users/alex/opt/anaconda3/lib/python3.8/site-packages/torch/nn/modules/rnn.py:58: UserWarning: dropout option adds dropout after all but last recurrent layer, so non-zero dropout expects num_layers greater than 1, but got dropout=0.2 and num_layers=1\n",
            "  warnings.warn(\"dropout option adds dropout after all but last \"\n",
            "/Users/alex/opt/anaconda3/lib/python3.8/site-packages/torch/nn/modules/rnn.py:58: UserWarning: dropout option adds dropout after all but last recurrent layer, so non-zero dropout expects num_layers greater than 1, but got dropout=0.1 and num_layers=1\n",
            "  warnings.warn(\"dropout option adds dropout after all but last \"\n",
            "  1%|          | 1/100 [00:00<00:14,  6.92it/s]"
          ]
        },
        {
          "name": "stdout",
          "output_type": "stream",
          "text": [
            "5.869019978680709e+18\n"
          ]
        },
        {
          "name": "stderr",
          "output_type": "stream",
          "text": [
            " 18%|█▊        | 18/100 [00:02<00:12,  6.37it/s]\n",
            "/Users/alex/opt/anaconda3/lib/python3.8/site-packages/torch/nn/modules/rnn.py:58: UserWarning: dropout option adds dropout after all but last recurrent layer, so non-zero dropout expects num_layers greater than 1, but got dropout=0.2 and num_layers=1\n",
            "  warnings.warn(\"dropout option adds dropout after all but last \"\n",
            "/Users/alex/opt/anaconda3/lib/python3.8/site-packages/torch/nn/modules/rnn.py:58: UserWarning: dropout option adds dropout after all but last recurrent layer, so non-zero dropout expects num_layers greater than 1, but got dropout=0.1 and num_layers=1\n",
            "  warnings.warn(\"dropout option adds dropout after all but last \"\n",
            "  1%|          | 1/100 [00:00<00:14,  6.99it/s]"
          ]
        },
        {
          "name": "stdout",
          "output_type": "stream",
          "text": [
            "5.590465818276917e+18\n"
          ]
        },
        {
          "name": "stderr",
          "output_type": "stream",
          "text": [
            " 62%|██████▏   | 62/100 [00:09<00:05,  6.65it/s]\n",
            "/Users/alex/opt/anaconda3/lib/python3.8/site-packages/torch/nn/modules/rnn.py:58: UserWarning: dropout option adds dropout after all but last recurrent layer, so non-zero dropout expects num_layers greater than 1, but got dropout=0.2 and num_layers=1\n",
            "  warnings.warn(\"dropout option adds dropout after all but last \"\n",
            "  0%|          | 0/100 [00:00<?, ?it/s]"
          ]
        },
        {
          "name": "stdout",
          "output_type": "stream",
          "text": [
            "6.58347135724396e+18\n"
          ]
        },
        {
          "name": "stderr",
          "output_type": "stream",
          "text": [
            " 68%|██████▊   | 68/100 [00:17<00:08,  3.87it/s]\n",
            "/Users/alex/opt/anaconda3/lib/python3.8/site-packages/torch/nn/modules/rnn.py:58: UserWarning: dropout option adds dropout after all but last recurrent layer, so non-zero dropout expects num_layers greater than 1, but got dropout=0.2 and num_layers=1\n",
            "  warnings.warn(\"dropout option adds dropout after all but last \"\n",
            "  0%|          | 0/100 [00:00<?, ?it/s]"
          ]
        },
        {
          "name": "stdout",
          "output_type": "stream",
          "text": [
            "6.039730023364649e+18\n"
          ]
        },
        {
          "name": "stderr",
          "output_type": "stream",
          "text": [
            " 47%|████▋     | 47/100 [00:12<00:14,  3.68it/s]\n",
            "/Users/alex/opt/anaconda3/lib/python3.8/site-packages/torch/nn/modules/rnn.py:58: UserWarning: dropout option adds dropout after all but last recurrent layer, so non-zero dropout expects num_layers greater than 1, but got dropout=0.2 and num_layers=1\n",
            "  warnings.warn(\"dropout option adds dropout after all but last \"\n",
            "/Users/alex/opt/anaconda3/lib/python3.8/site-packages/torch/nn/modules/rnn.py:58: UserWarning: dropout option adds dropout after all but last recurrent layer, so non-zero dropout expects num_layers greater than 1, but got dropout=0.1 and num_layers=1\n",
            "  warnings.warn(\"dropout option adds dropout after all but last \"\n",
            "  0%|          | 0/100 [00:00<?, ?it/s]"
          ]
        },
        {
          "name": "stdout",
          "output_type": "stream",
          "text": [
            "6.394425648198202e+18\n"
          ]
        },
        {
          "name": "stderr",
          "output_type": "stream",
          "text": [
            " 55%|█████▌    | 55/100 [00:14<00:11,  3.78it/s]\n",
            "/Users/alex/opt/anaconda3/lib/python3.8/site-packages/torch/nn/modules/rnn.py:58: UserWarning: dropout option adds dropout after all but last recurrent layer, so non-zero dropout expects num_layers greater than 1, but got dropout=0.2 and num_layers=1\n",
            "  warnings.warn(\"dropout option adds dropout after all but last \"\n",
            "/Users/alex/opt/anaconda3/lib/python3.8/site-packages/torch/nn/modules/rnn.py:58: UserWarning: dropout option adds dropout after all but last recurrent layer, so non-zero dropout expects num_layers greater than 1, but got dropout=0.1 and num_layers=1\n",
            "  warnings.warn(\"dropout option adds dropout after all but last \"\n",
            "  0%|          | 0/100 [00:00<?, ?it/s]"
          ]
        },
        {
          "name": "stdout",
          "output_type": "stream",
          "text": [
            "6.022581692897314e+18\n"
          ]
        },
        {
          "name": "stderr",
          "output_type": "stream",
          "text": [
            " 58%|█████▊    | 58/100 [00:14<00:10,  4.06it/s]\n",
            "/Users/alex/opt/anaconda3/lib/python3.8/site-packages/torch/nn/modules/rnn.py:58: UserWarning: dropout option adds dropout after all but last recurrent layer, so non-zero dropout expects num_layers greater than 1, but got dropout=0.2 and num_layers=1\n",
            "  warnings.warn(\"dropout option adds dropout after all but last \"\n",
            "  0%|          | 0/100 [00:00<?, ?it/s]"
          ]
        },
        {
          "name": "stdout",
          "output_type": "stream",
          "text": [
            "6.216453722456226e+18\n"
          ]
        },
        {
          "name": "stderr",
          "output_type": "stream",
          "text": [
            " 44%|████▍     | 44/100 [00:23<00:29,  1.89it/s]\n",
            "/Users/alex/opt/anaconda3/lib/python3.8/site-packages/torch/nn/modules/rnn.py:58: UserWarning: dropout option adds dropout after all but last recurrent layer, so non-zero dropout expects num_layers greater than 1, but got dropout=0.2 and num_layers=1\n",
            "  warnings.warn(\"dropout option adds dropout after all but last \"\n",
            "  0%|          | 0/100 [00:00<?, ?it/s]"
          ]
        },
        {
          "name": "stdout",
          "output_type": "stream",
          "text": [
            "2.728517027589544e+19\n"
          ]
        },
        {
          "name": "stderr",
          "output_type": "stream",
          "text": [
            " 87%|████████▋ | 87/100 [17:00<02:32, 11.73s/it]   \n",
            "/Users/alex/opt/anaconda3/lib/python3.8/site-packages/torch/nn/modules/rnn.py:58: UserWarning: dropout option adds dropout after all but last recurrent layer, so non-zero dropout expects num_layers greater than 1, but got dropout=0.2 and num_layers=1\n",
            "  warnings.warn(\"dropout option adds dropout after all but last \"\n",
            "/Users/alex/opt/anaconda3/lib/python3.8/site-packages/torch/nn/modules/rnn.py:58: UserWarning: dropout option adds dropout after all but last recurrent layer, so non-zero dropout expects num_layers greater than 1, but got dropout=0.1 and num_layers=1\n",
            "  warnings.warn(\"dropout option adds dropout after all but last \"\n",
            "  0%|          | 0/100 [00:00<?, ?it/s]"
          ]
        },
        {
          "name": "stdout",
          "output_type": "stream",
          "text": [
            "5.808404962435128e+18\n"
          ]
        },
        {
          "name": "stderr",
          "output_type": "stream",
          "text": [
            " 34%|███▍      | 34/100 [00:57<01:51,  1.69s/it]\n",
            "/Users/alex/opt/anaconda3/lib/python3.8/site-packages/torch/nn/modules/rnn.py:58: UserWarning: dropout option adds dropout after all but last recurrent layer, so non-zero dropout expects num_layers greater than 1, but got dropout=0.2 and num_layers=1\n",
            "  warnings.warn(\"dropout option adds dropout after all but last \"\n",
            "/Users/alex/opt/anaconda3/lib/python3.8/site-packages/torch/nn/modules/rnn.py:58: UserWarning: dropout option adds dropout after all but last recurrent layer, so non-zero dropout expects num_layers greater than 1, but got dropout=0.1 and num_layers=1\n",
            "  warnings.warn(\"dropout option adds dropout after all but last \"\n",
            "  0%|          | 0/100 [00:00<?, ?it/s]"
          ]
        },
        {
          "name": "stdout",
          "output_type": "stream",
          "text": [
            "7.386523173965443e+18\n"
          ]
        },
        {
          "name": "stderr",
          "output_type": "stream",
          "text": [
            " 52%|█████▏    | 52/100 [00:27<00:25,  1.90it/s]\n",
            "/Users/alex/opt/anaconda3/lib/python3.8/site-packages/torch/nn/modules/rnn.py:58: UserWarning: dropout option adds dropout after all but last recurrent layer, so non-zero dropout expects num_layers greater than 1, but got dropout=0.2 and num_layers=1\n",
            "  warnings.warn(\"dropout option adds dropout after all but last \"\n",
            "  0%|          | 0/100 [00:00<?, ?it/s]"
          ]
        },
        {
          "name": "stdout",
          "output_type": "stream",
          "text": [
            "7.202016732795787e+18\n"
          ]
        },
        {
          "name": "stderr",
          "output_type": "stream",
          "text": [
            " 43%|████▎     | 43/100 [00:12<00:17,  3.34it/s]\n",
            "  0%|          | 0/100 [00:00<?, ?it/s]"
          ]
        },
        {
          "name": "stdout",
          "output_type": "stream",
          "text": [
            "7.028838390634352e+18\n"
          ]
        },
        {
          "name": "stderr",
          "output_type": "stream",
          "text": [
            "100%|██████████| 100/100 [00:24<00:00,  4.15it/s]\n",
            "  0%|          | 0/100 [00:00<?, ?it/s]"
          ]
        },
        {
          "name": "stdout",
          "output_type": "stream",
          "text": [
            "5.736097399322534e+18\n"
          ]
        },
        {
          "name": "stderr",
          "output_type": "stream",
          "text": [
            " 18%|█▊        | 18/100 [00:04<00:19,  4.28it/s]\n",
            "  0%|          | 0/100 [00:00<?, ?it/s]"
          ]
        },
        {
          "name": "stdout",
          "output_type": "stream",
          "text": [
            "9.685706337483848e+18\n"
          ]
        },
        {
          "name": "stderr",
          "output_type": "stream",
          "text": [
            " 61%|██████    | 61/100 [00:15<00:09,  4.05it/s]\n",
            "  0%|          | 0/100 [00:00<?, ?it/s]"
          ]
        },
        {
          "name": "stdout",
          "output_type": "stream",
          "text": [
            "9.145009439946363e+18\n"
          ]
        },
        {
          "name": "stderr",
          "output_type": "stream",
          "text": [
            " 37%|███▋      | 37/100 [00:11<00:19,  3.29it/s]\n",
            "  0%|          | 0/100 [00:00<?, ?it/s]"
          ]
        },
        {
          "name": "stdout",
          "output_type": "stream",
          "text": [
            "6.873947519213724e+18\n"
          ]
        },
        {
          "name": "stderr",
          "output_type": "stream",
          "text": [
            " 95%|█████████▌| 95/100 [00:27<00:01,  3.50it/s]\n",
            "  0%|          | 0/100 [00:00<?, ?it/s]"
          ]
        },
        {
          "name": "stdout",
          "output_type": "stream",
          "text": [
            "5.793246973168032e+18\n"
          ]
        },
        {
          "name": "stderr",
          "output_type": "stream",
          "text": [
            " 35%|███▌      | 35/100 [00:09<00:17,  3.78it/s]\n",
            "  0%|          | 0/100 [00:00<?, ?it/s]"
          ]
        },
        {
          "name": "stdout",
          "output_type": "stream",
          "text": [
            "8.911899075165961e+18\n"
          ]
        },
        {
          "name": "stderr",
          "output_type": "stream",
          "text": [
            " 61%|██████    | 61/100 [15:47<10:05, 15.53s/it]   \n",
            "  0%|          | 0/100 [00:00<?, ?it/s]"
          ]
        },
        {
          "name": "stdout",
          "output_type": "stream",
          "text": [
            "1.1800499842736364e+19\n"
          ]
        },
        {
          "name": "stderr",
          "output_type": "stream",
          "text": [
            " 41%|████      | 41/100 [18:13<26:13, 26.68s/it]   \n",
            "  0%|          | 0/100 [00:00<?, ?it/s]"
          ]
        },
        {
          "name": "stdout",
          "output_type": "stream",
          "text": [
            "5.560638478351759e+18\n"
          ]
        },
        {
          "name": "stderr",
          "output_type": "stream",
          "text": [
            " 63%|██████▎   | 63/100 [19:10<11:15, 18.25s/it]   \n",
            "  0%|          | 0/100 [00:00<?, ?it/s]"
          ]
        },
        {
          "name": "stdout",
          "output_type": "stream",
          "text": [
            "7.487045204333701e+18\n"
          ]
        },
        {
          "name": "stderr",
          "output_type": "stream",
          "text": [
            " 45%|████▌     | 45/100 [01:13<01:29,  1.63s/it]\n",
            "  0%|          | 0/100 [00:00<?, ?it/s]"
          ]
        },
        {
          "name": "stdout",
          "output_type": "stream",
          "text": [
            "1.1345579201652374e+19\n"
          ]
        },
        {
          "name": "stderr",
          "output_type": "stream",
          "text": [
            " 56%|█████▌    | 56/100 [00:19<00:15,  2.82it/s]\n",
            "  0%|          | 0/100 [00:00<?, ?it/s]"
          ]
        },
        {
          "name": "stdout",
          "output_type": "stream",
          "text": [
            "1.0968847342452105e+19\n"
          ]
        },
        {
          "name": "stderr",
          "output_type": "stream",
          "text": [
            " 32%|███▏      | 32/100 [00:21<00:44,  1.52it/s]\n",
            "  0%|          | 0/100 [00:00<?, ?it/s]"
          ]
        },
        {
          "name": "stdout",
          "output_type": "stream",
          "text": [
            "5.389564265245289e+18\n"
          ]
        },
        {
          "name": "stderr",
          "output_type": "stream",
          "text": [
            " 61%|██████    | 61/100 [01:06<00:42,  1.08s/it]\n",
            "  0%|          | 0/100 [00:00<?, ?it/s]"
          ]
        },
        {
          "name": "stdout",
          "output_type": "stream",
          "text": [
            "5.877454942384017e+18\n"
          ]
        },
        {
          "name": "stderr",
          "output_type": "stream",
          "text": [
            " 16%|█▌        | 16/100 [00:17<01:30,  1.08s/it]\n",
            "  0%|          | 0/100 [00:00<?, ?it/s]"
          ]
        },
        {
          "name": "stdout",
          "output_type": "stream",
          "text": [
            "6.108201946559511e+20\n"
          ]
        },
        {
          "name": "stderr",
          "output_type": "stream",
          "text": [
            " 86%|████████▌ | 86/100 [01:09<00:11,  1.23it/s]\n",
            "  0%|          | 0/100 [00:00<?, ?it/s]"
          ]
        },
        {
          "name": "stdout",
          "output_type": "stream",
          "text": [
            "8.606646939523025e+18\n"
          ]
        },
        {
          "name": "stderr",
          "output_type": "stream",
          "text": [
            " 17%|█▋        | 17/100 [01:15<06:09,  4.46s/it]\n",
            "  0%|          | 0/100 [00:00<?, ?it/s]"
          ]
        },
        {
          "name": "stdout",
          "output_type": "stream",
          "text": [
            "2.131151189821971e+20\n"
          ]
        },
        {
          "name": "stderr",
          "output_type": "stream",
          "text": [
            " 62%|██████▏   | 62/100 [01:17<00:47,  1.24s/it]\n",
            "  0%|          | 0/100 [00:00<?, ?it/s]"
          ]
        },
        {
          "name": "stdout",
          "output_type": "stream",
          "text": [
            "6.27900098790304e+18\n"
          ]
        },
        {
          "name": "stderr",
          "output_type": "stream",
          "text": [
            " 58%|█████▊    | 58/100 [38:05<27:34, 39.40s/it]   \n",
            "  0%|          | 0/100 [00:00<?, ?it/s]"
          ]
        },
        {
          "name": "stdout",
          "output_type": "stream",
          "text": [
            "1.0139749018307692e+20\n"
          ]
        },
        {
          "name": "stderr",
          "output_type": "stream",
          "text": [
            " 50%|█████     | 50/100 [01:06<01:06,  1.34s/it]\n",
            "  0%|          | 0/100 [00:00<?, ?it/s]"
          ]
        },
        {
          "name": "stdout",
          "output_type": "stream",
          "text": [
            "8.247904960976994e+18\n"
          ]
        },
        {
          "name": "stderr",
          "output_type": "stream",
          "text": [
            " 29%|██▉       | 29/100 [00:09<00:23,  2.99it/s]\n",
            "  0%|          | 0/100 [00:00<?, ?it/s]"
          ]
        },
        {
          "name": "stdout",
          "output_type": "stream",
          "text": [
            "1.0085502312310315e+19\n"
          ]
        },
        {
          "name": "stderr",
          "output_type": "stream",
          "text": [
            " 66%|██████▌   | 66/100 [00:21<00:11,  3.02it/s]\n",
            "  0%|          | 0/100 [00:00<?, ?it/s]"
          ]
        },
        {
          "name": "stdout",
          "output_type": "stream",
          "text": [
            "7.657893062083876e+18\n"
          ]
        },
        {
          "name": "stderr",
          "output_type": "stream",
          "text": [
            " 18%|█▊        | 18/100 [00:07<00:33,  2.44it/s]\n",
            "  0%|          | 0/100 [00:00<?, ?it/s]"
          ]
        },
        {
          "name": "stdout",
          "output_type": "stream",
          "text": [
            "1.8392942556965759e+19\n"
          ]
        },
        {
          "name": "stderr",
          "output_type": "stream",
          "text": [
            " 77%|███████▋  | 77/100 [00:32<00:09,  2.39it/s]\n",
            "  0%|          | 0/100 [00:00<?, ?it/s]"
          ]
        },
        {
          "name": "stdout",
          "output_type": "stream",
          "text": [
            "9.142439819292141e+18\n"
          ]
        },
        {
          "name": "stderr",
          "output_type": "stream",
          "text": [
            " 47%|████▋     | 47/100 [00:18<00:20,  2.54it/s]\n",
            "  0%|          | 0/100 [00:00<?, ?it/s]"
          ]
        },
        {
          "name": "stdout",
          "output_type": "stream",
          "text": [
            "5.502680548729695e+18\n"
          ]
        },
        {
          "name": "stderr",
          "output_type": "stream",
          "text": [
            " 97%|█████████▋| 97/100 [00:32<00:01,  2.94it/s]\n",
            "  0%|          | 0/100 [00:00<?, ?it/s]"
          ]
        },
        {
          "name": "stdout",
          "output_type": "stream",
          "text": [
            "5.918114257449554e+18\n"
          ]
        },
        {
          "name": "stderr",
          "output_type": "stream",
          "text": [
            " 41%|████      | 41/100 [00:12<00:18,  3.25it/s]\n",
            "  0%|          | 0/100 [00:00<?, ?it/s]"
          ]
        },
        {
          "name": "stdout",
          "output_type": "stream",
          "text": [
            "8.996567550414539e+18\n"
          ]
        },
        {
          "name": "stderr",
          "output_type": "stream",
          "text": [
            " 33%|███▎      | 33/100 [00:12<00:25,  2.65it/s]\n",
            "  0%|          | 0/100 [00:00<?, ?it/s]"
          ]
        },
        {
          "name": "stdout",
          "output_type": "stream",
          "text": [
            "1.995010105970973e+19\n"
          ]
        },
        {
          "name": "stderr",
          "output_type": "stream",
          "text": [
            " 35%|███▌      | 35/100 [00:21<00:39,  1.65it/s]\n",
            "  0%|          | 0/100 [00:00<?, ?it/s]"
          ]
        },
        {
          "name": "stdout",
          "output_type": "stream",
          "text": [
            "1.7002554459427547e+20\n"
          ]
        },
        {
          "name": "stderr",
          "output_type": "stream",
          "text": [
            "100%|██████████| 100/100 [00:51<00:00,  1.95it/s]\n",
            "  0%|          | 0/100 [00:00<?, ?it/s]"
          ]
        },
        {
          "name": "stdout",
          "output_type": "stream",
          "text": [
            "5.672923099677619e+18\n"
          ]
        },
        {
          "name": "stderr",
          "output_type": "stream",
          "text": [
            " 37%|███▋      | 37/100 [00:16<00:28,  2.22it/s]\n",
            "  0%|          | 0/100 [00:00<?, ?it/s]"
          ]
        },
        {
          "name": "stdout",
          "output_type": "stream",
          "text": [
            "1.0986390747978844e+20\n"
          ]
        },
        {
          "name": "stderr",
          "output_type": "stream",
          "text": [
            " 57%|█████▋    | 57/100 [17:01<12:50, 17.93s/it]   \n",
            "  0%|          | 0/100 [00:00<?, ?it/s]"
          ]
        },
        {
          "name": "stdout",
          "output_type": "stream",
          "text": [
            "1.0824886352894974e+19\n"
          ]
        },
        {
          "name": "stderr",
          "output_type": "stream",
          "text": [
            " 34%|███▍      | 34/100 [19:21<37:34, 34.16s/it]  \n",
            "  0%|          | 0/100 [00:00<?, ?it/s]"
          ]
        },
        {
          "name": "stdout",
          "output_type": "stream",
          "text": [
            "2.2078504738203353e+20\n"
          ]
        },
        {
          "name": "stderr",
          "output_type": "stream",
          "text": [
            " 43%|████▎     | 43/100 [00:29<00:38,  1.47it/s]\n",
            "  0%|          | 0/100 [00:00<?, ?it/s]"
          ]
        },
        {
          "name": "stdout",
          "output_type": "stream",
          "text": [
            "7.377780948580362e+18\n"
          ]
        },
        {
          "name": "stderr",
          "output_type": "stream",
          "text": [
            " 31%|███       | 31/100 [16:23<36:29, 31.73s/it]   \n",
            "  0%|          | 0/100 [00:00<?, ?it/s]"
          ]
        },
        {
          "name": "stdout",
          "output_type": "stream",
          "text": [
            "1.348218182657432e+19\n"
          ]
        },
        {
          "name": "stderr",
          "output_type": "stream",
          "text": [
            " 93%|█████████▎| 93/100 [02:16<00:10,  1.46s/it]\n",
            "  0%|          | 0/100 [00:00<?, ?it/s]"
          ]
        },
        {
          "name": "stdout",
          "output_type": "stream",
          "text": [
            "7.522855466606004e+18\n"
          ]
        },
        {
          "name": "stderr",
          "output_type": "stream",
          "text": [
            " 33%|███▎      | 33/100 [01:08<02:18,  2.07s/it]\n"
          ]
        },
        {
          "name": "stdout",
          "output_type": "stream",
          "text": [
            "4.5974132097165754e+20\n"
          ]
        },
        {
          "name": "stderr",
          "output_type": "stream",
          "text": [
            " 67%|██████▋   | 67/100 [10:34<05:12,  9.47s/it]   \n",
            "  0%|          | 0/100 [00:00<?, ?it/s]"
          ]
        },
        {
          "name": "stdout",
          "output_type": "stream",
          "text": [
            "5.49695037269725e+18\n"
          ]
        },
        {
          "name": "stderr",
          "output_type": "stream",
          "text": [
            " 24%|██▍       | 24/100 [33:22<1:45:42, 83.45s/it] \n"
          ]
        },
        {
          "name": "stdout",
          "output_type": "stream",
          "text": [
            "1.5071365699796648e+20\n"
          ]
        },
        {
          "name": "stderr",
          "output_type": "stream",
          "text": [
            " 30%|███       | 30/100 [01:36<03:44,  3.21s/it]\n"
          ]
        },
        {
          "name": "stdout",
          "output_type": "stream",
          "text": [
            "9.069652897890093e+18\n"
          ]
        }
      ],
      "source": [
        "# Compute the results\n",
        "results = pd.read_csv('LSTM_results.csv')\n",
        "\n",
        "for bc in [16,64]:\n",
        "    for layers in [1,2,3]:\n",
        "        for hidden in [8,16,32,64,128]:\n",
        "            for dropout in [0, 0.1]:\n",
        "                for lr in [0.05, 0.01]:\n",
        "                    if len(results[(results['Window'] == timeWindowToUse) & (results['layers'] == layers) & (results['hidden'] == hidden) & (results['batch_size'] == bc) & (results['dropout'] == dropout) & (results['lr'] == lr)]) > 0:\n",
        "                        continue\n",
        "                    train_model(x,y, batch_size=bc,hidden_size = hidden, num_layers = layers, dropout_rate = dropout, learning_rate = lr)\n",
        "                    pred_Y, true_Y = test_model(x,y, hidden_size = hidden, num_layers = layers, dropout_rate = dropout)\n",
        "                    mse = mean_squared_error(scaler_y.inverse_transform(true_Y.reshape(-1, 1)), scaler_y.inverse_transform(pred_Y.reshape(-1, 1)))\n",
        "                    print(mse)\n",
        "                    results = pd.concat([results, pd.DataFrame.from_records([{'Window': timeWindowToUse,'layers': layers,\n",
        "                                         'hidden': hidden, 'batch_size' : bc,'dropout': dropout, 'lr': lr, 'mse': mse}])])\n",
        "                    results.to_csv('LSTM_results.csv', index=False)\n"
      ]
    }
  ],
  "metadata": {
    "accelerator": "GPU",
    "colab": {
      "include_colab_link": true,
      "provenance": []
    },
    "gpuClass": "standard",
    "kernelspec": {
      "display_name": "Python 3 (ipykernel)",
      "language": "python",
      "name": "python3"
    },
    "language_info": {
      "codemirror_mode": {
        "name": "ipython",
        "version": 3
      },
      "file_extension": ".py",
      "mimetype": "text/x-python",
      "name": "python",
      "nbconvert_exporter": "python",
      "pygments_lexer": "ipython3",
      "version": "3.8.3"
    }
  },
  "nbformat": 4,
  "nbformat_minor": 5
}
